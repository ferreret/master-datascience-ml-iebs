{
   "cells": [
      {
         "attachments": {},
         "cell_type": "markdown",
         "metadata": {},
         "source": [
            "**EJEMPLO DE REGRESIÓN LINEAL MÚLTIPLE**\n",
            "\n",
            "**PREDICCIÓN PRECIO AUTOMÓVIL**"
         ]
      },
      {
         "cell_type": "code",
         "execution_count": 2,
         "metadata": {},
         "outputs": [],
         "source": [
            "# Imports\n",
            "import pandas as pd\n",
            "import numpy as np\n",
            "import matplotlib.pyplot as plt\n",
            "import seaborn as sns"
         ]
      },
      {
         "attachments": {},
         "cell_type": "markdown",
         "metadata": {},
         "source": [
            "## FASE 1: RECOLECCIÓN DE DATOS"
         ]
      },
      {
         "cell_type": "code",
         "execution_count": 3,
         "metadata": {},
         "outputs": [],
         "source": [
            "car_data = pd.read_csv('car_data.csv')"
         ]
      },
      {
         "cell_type": "code",
         "execution_count": 4,
         "metadata": {},
         "outputs": [
            {
               "data": {
                  "text/html": [
                     "<div>\n",
                     "<style scoped>\n",
                     "    .dataframe tbody tr th:only-of-type {\n",
                     "        vertical-align: middle;\n",
                     "    }\n",
                     "\n",
                     "    .dataframe tbody tr th {\n",
                     "        vertical-align: top;\n",
                     "    }\n",
                     "\n",
                     "    .dataframe thead th {\n",
                     "        text-align: right;\n",
                     "    }\n",
                     "</style>\n",
                     "<table border=\"1\" class=\"dataframe\">\n",
                     "  <thead>\n",
                     "    <tr style=\"text-align: right;\">\n",
                     "      <th></th>\n",
                     "      <th>Model</th>\n",
                     "      <th>Selling Price</th>\n",
                     "      <th>Kilometers Driven</th>\n",
                     "      <th>Year</th>\n",
                     "      <th>Owner</th>\n",
                     "      <th>Fuel Type</th>\n",
                     "      <th>Transmission</th>\n",
                     "      <th>Insurance</th>\n",
                     "      <th>Car Condition</th>\n",
                     "    </tr>\n",
                     "  </thead>\n",
                     "  <tbody>\n",
                     "    <tr>\n",
                     "      <th>0</th>\n",
                     "      <td>MarutiWagonR1.0LXI</td>\n",
                     "      <td>312165</td>\n",
                     "      <td>82238</td>\n",
                     "      <td>2014</td>\n",
                     "      <td>First Owner</td>\n",
                     "      <td>Petrol + CNG</td>\n",
                     "      <td>MANUAL</td>\n",
                     "      <td>Expired</td>\n",
                     "      <td>4.2</td>\n",
                     "    </tr>\n",
                     "    <tr>\n",
                     "      <th>1</th>\n",
                     "      <td>ToyotaEtiosLiva</td>\n",
                     "      <td>313799</td>\n",
                     "      <td>30558</td>\n",
                     "      <td>2013</td>\n",
                     "      <td>First Owner</td>\n",
                     "      <td>Petrol</td>\n",
                     "      <td>MANUAL</td>\n",
                     "      <td>12-09-2021</td>\n",
                     "      <td>4.4</td>\n",
                     "    </tr>\n",
                     "    <tr>\n",
                     "      <th>2</th>\n",
                     "      <td>MarutiAlto800</td>\n",
                     "      <td>295999</td>\n",
                     "      <td>22164</td>\n",
                     "      <td>2018</td>\n",
                     "      <td>First Owner</td>\n",
                     "      <td>Petrol</td>\n",
                     "      <td>MANUAL</td>\n",
                     "      <td>01-12-2020</td>\n",
                     "      <td>4.8</td>\n",
                     "    </tr>\n",
                     "    <tr>\n",
                     "      <th>3</th>\n",
                     "      <td>MarutiSwift</td>\n",
                     "      <td>435199</td>\n",
                     "      <td>30535</td>\n",
                     "      <td>2013</td>\n",
                     "      <td>First Owner</td>\n",
                     "      <td>Diesel</td>\n",
                     "      <td>MANUAL</td>\n",
                     "      <td>Comp</td>\n",
                     "      <td>4.3</td>\n",
                     "    </tr>\n",
                     "    <tr>\n",
                     "      <th>4</th>\n",
                     "      <td>MarutiWagonR1.0</td>\n",
                     "      <td>289099</td>\n",
                     "      <td>15738</td>\n",
                     "      <td>2013</td>\n",
                     "      <td>First Owner</td>\n",
                     "      <td>Petrol</td>\n",
                     "      <td>MANUAL</td>\n",
                     "      <td>11-08-2021</td>\n",
                     "      <td>4.3</td>\n",
                     "    </tr>\n",
                     "  </tbody>\n",
                     "</table>\n",
                     "</div>"
                  ],
                  "text/plain": [
                     "                Model  Selling Price  Kilometers Driven  Year        Owner  \\\n",
                     "0  MarutiWagonR1.0LXI         312165              82238  2014  First Owner   \n",
                     "1     ToyotaEtiosLiva         313799              30558  2013  First Owner   \n",
                     "2       MarutiAlto800         295999              22164  2018  First Owner   \n",
                     "3         MarutiSwift         435199              30535  2013  First Owner   \n",
                     "4     MarutiWagonR1.0         289099              15738  2013  First Owner   \n",
                     "\n",
                     "      Fuel Type Transmission   Insurance  Car Condition  \n",
                     "0  Petrol + CNG       MANUAL     Expired            4.2  \n",
                     "1        Petrol       MANUAL  12-09-2021            4.4  \n",
                     "2        Petrol       MANUAL  01-12-2020            4.8  \n",
                     "3        Diesel       MANUAL        Comp            4.3  \n",
                     "4        Petrol       MANUAL  11-08-2021            4.3  "
                  ]
               },
               "execution_count": 4,
               "metadata": {},
               "output_type": "execute_result"
            }
         ],
         "source": [
            "car_data.head()"
         ]
      },
      {
         "attachments": {},
         "cell_type": "markdown",
         "metadata": {},
         "source": [
            "## FASE 2: EXPLORACIÓN DE DATOS"
         ]
      },
      {
         "cell_type": "code",
         "execution_count": 5,
         "metadata": {},
         "outputs": [
            {
               "data": {
                  "text/plain": [
                     "Index(['Model', 'Selling Price', 'Kilometers Driven', 'Year', 'Owner',\n",
                     "       'Fuel Type', 'Transmission', 'Insurance', 'Car Condition'],\n",
                     "      dtype='object')"
                  ]
               },
               "execution_count": 5,
               "metadata": {},
               "output_type": "execute_result"
            }
         ],
         "source": [
            "# Nombre de las columnas\n",
            "car_data.columns"
         ]
      },
      {
         "cell_type": "code",
         "execution_count": 9,
         "metadata": {},
         "outputs": [
            {
               "data": {
                  "text/plain": [
                     "(2237, 9)"
                  ]
               },
               "execution_count": 9,
               "metadata": {},
               "output_type": "execute_result"
            }
         ],
         "source": [
            "# Número de filas y de columnas\n",
            "car_data.shape"
         ]
      },
      {
         "cell_type": "code",
         "execution_count": 10,
         "metadata": {},
         "outputs": [
            {
               "data": {
                  "text/html": [
                     "<div>\n",
                     "<style scoped>\n",
                     "    .dataframe tbody tr th:only-of-type {\n",
                     "        vertical-align: middle;\n",
                     "    }\n",
                     "\n",
                     "    .dataframe tbody tr th {\n",
                     "        vertical-align: top;\n",
                     "    }\n",
                     "\n",
                     "    .dataframe thead th {\n",
                     "        text-align: right;\n",
                     "    }\n",
                     "</style>\n",
                     "<table border=\"1\" class=\"dataframe\">\n",
                     "  <thead>\n",
                     "    <tr style=\"text-align: right;\">\n",
                     "      <th></th>\n",
                     "      <th>count</th>\n",
                     "      <th>mean</th>\n",
                     "      <th>std</th>\n",
                     "      <th>min</th>\n",
                     "      <th>25%</th>\n",
                     "      <th>50%</th>\n",
                     "      <th>75%</th>\n",
                     "      <th>max</th>\n",
                     "    </tr>\n",
                     "  </thead>\n",
                     "  <tbody>\n",
                     "    <tr>\n",
                     "      <th>Selling Price</th>\n",
                     "      <td>2237.0</td>\n",
                     "      <td>418443.068842</td>\n",
                     "      <td>228051.595437</td>\n",
                     "      <td>75299.0</td>\n",
                     "      <td>272099.0</td>\n",
                     "      <td>355799.0</td>\n",
                     "      <td>503299.0</td>\n",
                     "      <td>1952397.0</td>\n",
                     "    </tr>\n",
                     "    <tr>\n",
                     "      <th>Kilometers Driven</th>\n",
                     "      <td>2237.0</td>\n",
                     "      <td>61928.605275</td>\n",
                     "      <td>42260.955917</td>\n",
                     "      <td>913.0</td>\n",
                     "      <td>32137.0</td>\n",
                     "      <td>55430.0</td>\n",
                     "      <td>83427.0</td>\n",
                     "      <td>855881.0</td>\n",
                     "    </tr>\n",
                     "    <tr>\n",
                     "      <th>Year</th>\n",
                     "      <td>2237.0</td>\n",
                     "      <td>2013.763523</td>\n",
                     "      <td>2.874686</td>\n",
                     "      <td>2006.0</td>\n",
                     "      <td>2012.0</td>\n",
                     "      <td>2014.0</td>\n",
                     "      <td>2016.0</td>\n",
                     "      <td>2020.0</td>\n",
                     "    </tr>\n",
                     "    <tr>\n",
                     "      <th>Car Condition</th>\n",
                     "      <td>2237.0</td>\n",
                     "      <td>4.370854</td>\n",
                     "      <td>0.288990</td>\n",
                     "      <td>3.0</td>\n",
                     "      <td>4.2</td>\n",
                     "      <td>4.3</td>\n",
                     "      <td>4.6</td>\n",
                     "      <td>5.0</td>\n",
                     "    </tr>\n",
                     "  </tbody>\n",
                     "</table>\n",
                     "</div>"
                  ],
                  "text/plain": [
                     "                    count           mean            std      min       25%  \\\n",
                     "Selling Price      2237.0  418443.068842  228051.595437  75299.0  272099.0   \n",
                     "Kilometers Driven  2237.0   61928.605275   42260.955917    913.0   32137.0   \n",
                     "Year               2237.0    2013.763523       2.874686   2006.0    2012.0   \n",
                     "Car Condition      2237.0       4.370854       0.288990      3.0       4.2   \n",
                     "\n",
                     "                        50%       75%        max  \n",
                     "Selling Price      355799.0  503299.0  1952397.0  \n",
                     "Kilometers Driven   55430.0   83427.0   855881.0  \n",
                     "Year                 2014.0    2016.0     2020.0  \n",
                     "Car Condition           4.3       4.6        5.0  "
                  ]
               },
               "execution_count": 10,
               "metadata": {},
               "output_type": "execute_result"
            }
         ],
         "source": [
            "# Get statistical data from the dataframe\n",
            "car_data.describe().T\n"
         ]
      },
      {
         "cell_type": "code",
         "execution_count": 11,
         "metadata": {},
         "outputs": [
            {
               "data": {
                  "text/plain": [
                     "Model                 object\n",
                     "Selling Price          int64\n",
                     "Kilometers Driven      int64\n",
                     "Year                   int64\n",
                     "Owner                 object\n",
                     "Fuel Type             object\n",
                     "Transmission          object\n",
                     "Insurance             object\n",
                     "Car Condition        float64\n",
                     "dtype: object"
                  ]
               },
               "execution_count": 11,
               "metadata": {},
               "output_type": "execute_result"
            }
         ],
         "source": [
            "# Get data dataTypes\n",
            "car_data.dtypes"
         ]
      },
      {
         "cell_type": "code",
         "execution_count": 7,
         "metadata": {},
         "outputs": [
            {
               "data": {
                  "image/png": "[encoded data removed]",
                  "text/plain": [
                     "<Figure size 1080x1080 with 4 Axes>"
                  ]
               },
               "metadata": {
                  "needs_background": "light"
               },
               "output_type": "display_data"
            }
         ],
         "source": [
            "# Histográmas de las variables cualitativas\n",
            "car_data.hist(figsize=(15,15))\n",
            "plt.show()"
         ]
      },
      {
         "cell_type": "code",
         "execution_count": 8,
         "metadata": {},
         "outputs": [
            {
               "data": {
                  "text/plain": [
                     "Text(0.5, 1.0, 'Year vs Price')"
                  ]
               },
               "execution_count": 8,
               "metadata": {},
               "output_type": "execute_result"
            },
            {
               "data": {
                  "image/png": "[encoded data removed]",
                  "text/plain": [
                     "<Figure size 1008x432 with 2 Axes>"
                  ]
               },
               "metadata": {
                  "needs_background": "light"
               },
               "output_type": "display_data"
            }
         ],
         "source": [
            "f = plt.figure(figsize=(14,6))\n",
            "ax = f.add_subplot(121)\n",
            "sns.scatterplot(x='Kilometers Driven', y='Selling Price', data=car_data, palette='magma', hue='Fuel Type', ax=ax)\n",
            "ax.set_title('Scatter plot - Kms vs Price')\n",
            "\n",
            "ax = f.add_subplot(122)\n",
            "sns.scatterplot(x='Year', y='Selling Price', data=car_data, palette='viridis', hue='Fuel Type', ax=ax)\n",
            "ax.set_title('Year vs Price')"
         ]
      },
      {
         "cell_type": "code",
         "execution_count": 9,
         "metadata": {},
         "outputs": [
            {
               "data": {
                  "text/plain": [
                     "<AxesSubplot:>"
                  ]
               },
               "execution_count": 9,
               "metadata": {},
               "output_type": "execute_result"
            },
            {
               "data": {
                  "image/png": "[encoded data removed]",
                  "text/plain": [
                     "<Figure size 432x288 with 2 Axes>"
                  ]
               },
               "metadata": {
                  "needs_background": "light"
               },
               "output_type": "display_data"
            }
         ],
         "source": [
            "corr = car_data.corr()\n",
            "sns.heatmap(corr, annot=True)"
         ]
      },
      {
         "cell_type": "code",
         "execution_count": 10,
         "metadata": {},
         "outputs": [
            {
               "data": {
                  "text/plain": [
                     "Model                 0\n",
                     "Selling Price         0\n",
                     "Kilometers Driven     0\n",
                     "Year                  0\n",
                     "Owner                 0\n",
                     "Fuel Type             0\n",
                     "Transmission          0\n",
                     "Insurance            14\n",
                     "Car Condition         0\n",
                     "dtype: int64"
                  ]
               },
               "execution_count": 10,
               "metadata": {},
               "output_type": "execute_result"
            }
         ],
         "source": [
            "car_data.isnull().sum()"
         ]
      },
      {
         "cell_type": "code",
         "execution_count": 6,
         "metadata": {},
         "outputs": [],
         "source": [
            "car_data = car_data.dropna()"
         ]
      },
      {
         "cell_type": "code",
         "execution_count": 7,
         "metadata": {},
         "outputs": [
            {
               "data": {
                  "text/plain": [
                     "Model                0\n",
                     "Selling Price        0\n",
                     "Kilometers Driven    0\n",
                     "Year                 0\n",
                     "Owner                0\n",
                     "Fuel Type            0\n",
                     "Transmission         0\n",
                     "Insurance            0\n",
                     "Car Condition        0\n",
                     "dtype: int64"
                  ]
               },
               "execution_count": 7,
               "metadata": {},
               "output_type": "execute_result"
            }
         ],
         "source": [
            "car_data.isnull().sum()"
         ]
      },
      {
         "attachments": {},
         "cell_type": "markdown",
         "metadata": {},
         "source": [
            "## 3. FASE DE ENTRENAMIENTO Y VALIDACIÓN"
         ]
      },
      {
         "attachments": {},
         "cell_type": "markdown",
         "metadata": {},
         "source": [
            "HIPÓTESIS 1: Utilizando sólo variables numéricas\n",
            "\n",
            "Dado que los modelos sólo aceptan variables numéricas, vamos a eliminar todas aquellas variables que no lo son"
         ]
      },
      {
         "cell_type": "code",
         "execution_count": 8,
         "metadata": {},
         "outputs": [],
         "source": [
            "# Preparamos el dataset de la hipótisis 1\n",
            "# Borramos las columnas categóricas\n",
            "categorical_columns = ['Model', 'Fuel Type', 'Transmission', 'Owner', 'Insurance']\n",
            "car_data_hipot1 = car_data.drop(categorical_columns, axis=1)"
         ]
      },
      {
         "cell_type": "code",
         "execution_count": 9,
         "metadata": {},
         "outputs": [
            {
               "data": {
                  "text/html": [
                     "<div>\n",
                     "<style scoped>\n",
                     "    .dataframe tbody tr th:only-of-type {\n",
                     "        vertical-align: middle;\n",
                     "    }\n",
                     "\n",
                     "    .dataframe tbody tr th {\n",
                     "        vertical-align: top;\n",
                     "    }\n",
                     "\n",
                     "    .dataframe thead th {\n",
                     "        text-align: right;\n",
                     "    }\n",
                     "</style>\n",
                     "<table border=\"1\" class=\"dataframe\">\n",
                     "  <thead>\n",
                     "    <tr style=\"text-align: right;\">\n",
                     "      <th></th>\n",
                     "      <th>Selling Price</th>\n",
                     "      <th>Kilometers Driven</th>\n",
                     "      <th>Year</th>\n",
                     "      <th>Car Condition</th>\n",
                     "    </tr>\n",
                     "  </thead>\n",
                     "  <tbody>\n",
                     "    <tr>\n",
                     "      <th>0</th>\n",
                     "      <td>312165</td>\n",
                     "      <td>82238</td>\n",
                     "      <td>2014</td>\n",
                     "      <td>4.2</td>\n",
                     "    </tr>\n",
                     "    <tr>\n",
                     "      <th>1</th>\n",
                     "      <td>313799</td>\n",
                     "      <td>30558</td>\n",
                     "      <td>2013</td>\n",
                     "      <td>4.4</td>\n",
                     "    </tr>\n",
                     "    <tr>\n",
                     "      <th>2</th>\n",
                     "      <td>295999</td>\n",
                     "      <td>22164</td>\n",
                     "      <td>2018</td>\n",
                     "      <td>4.8</td>\n",
                     "    </tr>\n",
                     "    <tr>\n",
                     "      <th>3</th>\n",
                     "      <td>435199</td>\n",
                     "      <td>30535</td>\n",
                     "      <td>2013</td>\n",
                     "      <td>4.3</td>\n",
                     "    </tr>\n",
                     "    <tr>\n",
                     "      <th>4</th>\n",
                     "      <td>289099</td>\n",
                     "      <td>15738</td>\n",
                     "      <td>2013</td>\n",
                     "      <td>4.3</td>\n",
                     "    </tr>\n",
                     "  </tbody>\n",
                     "</table>\n",
                     "</div>"
                  ],
                  "text/plain": [
                     "   Selling Price  Kilometers Driven  Year  Car Condition\n",
                     "0         312165              82238  2014            4.2\n",
                     "1         313799              30558  2013            4.4\n",
                     "2         295999              22164  2018            4.8\n",
                     "3         435199              30535  2013            4.3\n",
                     "4         289099              15738  2013            4.3"
                  ]
               },
               "execution_count": 9,
               "metadata": {},
               "output_type": "execute_result"
            }
         ],
         "source": [
            "car_data_hipot1.head()"
         ]
      },
      {
         "cell_type": "code",
         "execution_count": 10,
         "metadata": {},
         "outputs": [],
         "source": [
            "X_hipot1 = car_data_hipot1.drop('Selling Price', axis=1) # Variables independientes\n",
            "y_hipot1 = car_data_hipot1['Selling Price'] # Variable dependiente"
         ]
      },
      {
         "cell_type": "code",
         "execution_count": 12,
         "metadata": {},
         "outputs": [],
         "source": [
            "# Preparamos el train data y el test data\n",
            "from sklearn.model_selection import train_test_split\n",
            "\n",
            "X_hipot1_train, X_hipot1_test, y_hipot1_train, y_hipot1_test = train_test_split(X_hipot1, y_hipot1, test_size=0.2, random_state=43)"
         ]
      },
      {
         "cell_type": "code",
         "execution_count": 13,
         "metadata": {},
         "outputs": [
            {
               "data": {
                  "text/html": [
                     "<style>#sk-container-id-1 {color: black;background-color: white;}#sk-container-id-1 pre{padding: 0;}#sk-container-id-1 div.sk-toggleable {background-color: white;}#sk-container-id-1 label.sk-toggleable__label {cursor: pointer;display: block;width: 100%;margin-bottom: 0;padding: 0.3em;box-sizing: border-box;text-align: center;}#sk-container-id-1 label.sk-toggleable__label-arrow:before {content: \"▸\";float: left;margin-right: 0.25em;color: #696969;}#sk-container-id-1 label.sk-toggleable__label-arrow:hover:before {color: black;}#sk-container-id-1 div.sk-estimator:hover label.sk-toggleable__label-arrow:before {color: black;}#sk-container-id-1 div.sk-toggleable__content {max-height: 0;max-width: 0;overflow: hidden;text-align: left;background-color: #f0f8ff;}#sk-container-id-1 div.sk-toggleable__content pre {margin: 0.2em;color: black;border-radius: 0.25em;background-color: #f0f8ff;}#sk-container-id-1 input.sk-toggleable__control:checked~div.sk-toggleable__content {max-height: 200px;max-width: 100%;overflow: auto;}#sk-container-id-1 input.sk-toggleable__control:checked~label.sk-toggleable__label-arrow:before {content: \"▾\";}#sk-container-id-1 div.sk-estimator input.sk-toggleable__control:checked~label.sk-toggleable__label {background-color: #d4ebff;}#sk-container-id-1 div.sk-label input.sk-toggleable__control:checked~label.sk-toggleable__label {background-color: #d4ebff;}#sk-container-id-1 input.sk-hidden--visually {border: 0;clip: rect(1px 1px 1px 1px);clip: rect(1px, 1px, 1px, 1px);height: 1px;margin: -1px;overflow: hidden;padding: 0;position: absolute;width: 1px;}#sk-container-id-1 div.sk-estimator {font-family: monospace;background-color: #f0f8ff;border: 1px dotted black;border-radius: 0.25em;box-sizing: border-box;margin-bottom: 0.5em;}#sk-container-id-1 div.sk-estimator:hover {background-color: #d4ebff;}#sk-container-id-1 div.sk-parallel-item::after {content: \"\";width: 100%;border-bottom: 1px solid gray;flex-grow: 1;}#sk-container-id-1 div.sk-label:hover label.sk-toggleable__label {background-color: #d4ebff;}#sk-container-id-1 div.sk-serial::before {content: \"\";position: absolute;border-left: 1px solid gray;box-sizing: border-box;top: 0;bottom: 0;left: 50%;z-index: 0;}#sk-container-id-1 div.sk-serial {display: flex;flex-direction: column;align-items: center;background-color: white;padding-right: 0.2em;padding-left: 0.2em;position: relative;}#sk-container-id-1 div.sk-item {position: relative;z-index: 1;}#sk-container-id-1 div.sk-parallel {display: flex;align-items: stretch;justify-content: center;background-color: white;position: relative;}#sk-container-id-1 div.sk-item::before, #sk-container-id-1 div.sk-parallel-item::before {content: \"\";position: absolute;border-left: 1px solid gray;box-sizing: border-box;top: 0;bottom: 0;left: 50%;z-index: -1;}#sk-container-id-1 div.sk-parallel-item {display: flex;flex-direction: column;z-index: 1;position: relative;background-color: white;}#sk-container-id-1 div.sk-parallel-item:first-child::after {align-self: flex-end;width: 50%;}#sk-container-id-1 div.sk-parallel-item:last-child::after {align-self: flex-start;width: 50%;}#sk-container-id-1 div.sk-parallel-item:only-child::after {width: 0;}#sk-container-id-1 div.sk-dashed-wrapped {border: 1px dashed gray;margin: 0 0.4em 0.5em 0.4em;box-sizing: border-box;padding-bottom: 0.4em;background-color: white;}#sk-container-id-1 div.sk-label label {font-family: monospace;font-weight: bold;display: inline-block;line-height: 1.2em;}#sk-container-id-1 div.sk-label-container {text-align: center;}#sk-container-id-1 div.sk-container {/* jupyter's `normalize.less` sets `[hidden] { display: none; }` but bootstrap.min.css set `[hidden] { display: none !important; }` so we also need the `!important` here to be able to override the default hidden behavior on the sphinx rendered scikit-learn.org. See: https://github.com/scikit-learn/scikit-learn/issues/21755 */display: inline-block !important;position: relative;}#sk-container-id-1 div.sk-text-repr-fallback {display: none;}</style><div id=\"sk-container-id-1\" class=\"sk-top-container\"><div class=\"sk-text-repr-fallback\"><pre>LinearRegression()</pre><b>In a Jupyter environment, please rerun this cell to show the HTML representation or trust the notebook. <br />On GitHub, the HTML representation is unable to render, please try loading this page with nbviewer.org.</b></div><div class=\"sk-container\" hidden><div class=\"sk-item\"><div class=\"sk-estimator sk-toggleable\"><input class=\"sk-toggleable__control sk-hidden--visually\" id=\"sk-estimator-id-1\" type=\"checkbox\" checked><label for=\"sk-estimator-id-1\" class=\"sk-toggleable__label sk-toggleable__label-arrow\">LinearRegression</label><div class=\"sk-toggleable__content\"><pre>LinearRegression()</pre></div></div></div></div></div>"
                  ],
                  "text/plain": [
                     "LinearRegression()"
                  ]
               },
               "execution_count": 13,
               "metadata": {},
               "output_type": "execute_result"
            }
         ],
         "source": [
            "# LinearRegression\n",
            "from sklearn.linear_model import LinearRegression\n",
            "\n",
            "regresion_lineal = LinearRegression()\n",
            "regresion_lineal.fit(X_hipot1_train, y_hipot1_train)"
         ]
      },
      {
         "cell_type": "code",
         "execution_count": 14,
         "metadata": {},
         "outputs": [],
         "source": [
            "# FASE VALIDACION\n",
            "\n",
            "# Importamos el cálculo del error cuadrático medio (MSE)\n",
            "from sklearn.metrics import mean_squared_error\n",
            "\n",
            "\n"
         ]
      },
      {
         "cell_type": "code",
         "execution_count": 16,
         "metadata": {},
         "outputs": [
            {
               "name": "stdout",
               "output_type": "stream",
               "text": [
                  "Error cuadrático medio (MSE) TRAIN 34410499034.42077\n",
                  "Error cuadrático medio (MSE) TEST 32710568016.668434\n"
               ]
            }
         ],
         "source": [
            "# Predecimos los valores y para los datos usados en el entrenamiento\n",
            "prediction_entrenamiento = regresion_lineal.predict(X_hipot1_train)\n",
            "\n",
            "# Calculamos el MSE\n",
            "mse_hipot1_train = mean_squared_error(y_true=y_hipot1_train, y_pred=prediction_entrenamiento)\n",
            "print(f'Error cuadrático medio (MSE) TRAIN {mse_hipot1_train}')\n",
            "\n",
            "# Predecimos los valores y para los datos de validación\n",
            "prediction_validacion = regresion_lineal.predict(X_hipot1_test)\n",
            "\n",
            "# Calculamos el MSE\n",
            "mse_hipot1_test = mean_squared_error(y_true=y_hipot1_test, y_pred=prediction_validacion)\n",
            "print(f'Error cuadrático medio (MSE) TEST {mse_hipot1_test}')\n"
         ]
      },
      {
         "attachments": {},
         "cell_type": "markdown",
         "metadata": {},
         "source": [
            "HIPÓTESIS 2: Transformamos las variables categóricas en variables numéricas\n",
            "\n",
            "Para ello, utilizaremos una técnica llamada one_hot_encoding que permite transformar en un conjunto de 1 y 0 una variable categórica. Por ejemplo, si tuviéramos una variable denominada color, con los valores Azul, Rojo, y Verde, el one_hot_encoding crearía 3 variables, color_Azul, color_Rojo, color_Verde con los valores 1 y 0 dependiendo de si el valor de la variable original era azul, rojo o verde."
         ]
      },
      {
         "cell_type": "code",
         "execution_count": 17,
         "metadata": {},
         "outputs": [
            {
               "data": {
                  "text/plain": [
                     "Model                 object\n",
                     "Selling Price          int64\n",
                     "Kilometers Driven      int64\n",
                     "Year                   int64\n",
                     "Owner                 object\n",
                     "Fuel Type             object\n",
                     "Transmission          object\n",
                     "Insurance             object\n",
                     "Car Condition        float64\n",
                     "dtype: object"
                  ]
               },
               "execution_count": 17,
               "metadata": {},
               "output_type": "execute_result"
            }
         ],
         "source": [
            "car_data.dtypes"
         ]
      },
      {
         "cell_type": "code",
         "execution_count": 21,
         "metadata": {},
         "outputs": [],
         "source": [
            "# Preparamos el dataset de la hipótesis 2\n",
            "# Vamos a tratar algunas de las variables categóricas con la técnica de one_hot_encoding\n",
            "\n",
            "categorical_columns_2 = ['Owner', 'Fuel Type', 'Transmission', 'Insurance']\n",
            "car_data_hipot2 = pd.get_dummies(data=car_data, prefix='OHE', prefix_sep='_', columns=categorical_columns_2, drop_first=True, dtype='int8')"
         ]
      },
      {
         "cell_type": "code",
         "execution_count": 22,
         "metadata": {},
         "outputs": [
            {
               "data": {
                  "text/html": [
                     "<div>\n",
                     "<style scoped>\n",
                     "    .dataframe tbody tr th:only-of-type {\n",
                     "        vertical-align: middle;\n",
                     "    }\n",
                     "\n",
                     "    .dataframe tbody tr th {\n",
                     "        vertical-align: top;\n",
                     "    }\n",
                     "\n",
                     "    .dataframe thead th {\n",
                     "        text-align: right;\n",
                     "    }\n",
                     "</style>\n",
                     "<table border=\"1\" class=\"dataframe\">\n",
                     "  <thead>\n",
                     "    <tr style=\"text-align: right;\">\n",
                     "      <th></th>\n",
                     "      <th>Model</th>\n",
                     "      <th>Selling Price</th>\n",
                     "      <th>Kilometers Driven</th>\n",
                     "      <th>Year</th>\n",
                     "      <th>Car Condition</th>\n",
                     "      <th>OHE_Second Owner</th>\n",
                     "      <th>OHE_Third Owner</th>\n",
                     "      <th>OHE_Petrol</th>\n",
                     "      <th>OHE_Petrol + CNG</th>\n",
                     "      <th>OHE_Petrol + LPG</th>\n",
                     "      <th>...</th>\n",
                     "      <th>OHE_31-12-2020</th>\n",
                     "      <th>OHE_31-12-2021</th>\n",
                     "      <th>OHE_3rd Party</th>\n",
                     "      <th>OHE_Comp</th>\n",
                     "      <th>OHE_Comprehensive</th>\n",
                     "      <th>OHE_Expired</th>\n",
                     "      <th>OHE_Insurance Expired</th>\n",
                     "      <th>OHE_Third_party</th>\n",
                     "      <th>OHE_Zero Depreciation</th>\n",
                     "      <th>OHE_Zero_Dep</th>\n",
                     "    </tr>\n",
                     "  </thead>\n",
                     "  <tbody>\n",
                     "    <tr>\n",
                     "      <th>0</th>\n",
                     "      <td>MarutiWagonR1.0LXI</td>\n",
                     "      <td>312165</td>\n",
                     "      <td>82238</td>\n",
                     "      <td>2014</td>\n",
                     "      <td>4.2</td>\n",
                     "      <td>0</td>\n",
                     "      <td>0</td>\n",
                     "      <td>0</td>\n",
                     "      <td>1</td>\n",
                     "      <td>0</td>\n",
                     "      <td>...</td>\n",
                     "      <td>0</td>\n",
                     "      <td>0</td>\n",
                     "      <td>0</td>\n",
                     "      <td>0</td>\n",
                     "      <td>0</td>\n",
                     "      <td>1</td>\n",
                     "      <td>0</td>\n",
                     "      <td>0</td>\n",
                     "      <td>0</td>\n",
                     "      <td>0</td>\n",
                     "    </tr>\n",
                     "    <tr>\n",
                     "      <th>1</th>\n",
                     "      <td>ToyotaEtiosLiva</td>\n",
                     "      <td>313799</td>\n",
                     "      <td>30558</td>\n",
                     "      <td>2013</td>\n",
                     "      <td>4.4</td>\n",
                     "      <td>0</td>\n",
                     "      <td>0</td>\n",
                     "      <td>1</td>\n",
                     "      <td>0</td>\n",
                     "      <td>0</td>\n",
                     "      <td>...</td>\n",
                     "      <td>0</td>\n",
                     "      <td>0</td>\n",
                     "      <td>0</td>\n",
                     "      <td>0</td>\n",
                     "      <td>0</td>\n",
                     "      <td>0</td>\n",
                     "      <td>0</td>\n",
                     "      <td>0</td>\n",
                     "      <td>0</td>\n",
                     "      <td>0</td>\n",
                     "    </tr>\n",
                     "    <tr>\n",
                     "      <th>2</th>\n",
                     "      <td>MarutiAlto800</td>\n",
                     "      <td>295999</td>\n",
                     "      <td>22164</td>\n",
                     "      <td>2018</td>\n",
                     "      <td>4.8</td>\n",
                     "      <td>0</td>\n",
                     "      <td>0</td>\n",
                     "      <td>1</td>\n",
                     "      <td>0</td>\n",
                     "      <td>0</td>\n",
                     "      <td>...</td>\n",
                     "      <td>0</td>\n",
                     "      <td>0</td>\n",
                     "      <td>0</td>\n",
                     "      <td>0</td>\n",
                     "      <td>0</td>\n",
                     "      <td>0</td>\n",
                     "      <td>0</td>\n",
                     "      <td>0</td>\n",
                     "      <td>0</td>\n",
                     "      <td>0</td>\n",
                     "    </tr>\n",
                     "    <tr>\n",
                     "      <th>3</th>\n",
                     "      <td>MarutiSwift</td>\n",
                     "      <td>435199</td>\n",
                     "      <td>30535</td>\n",
                     "      <td>2013</td>\n",
                     "      <td>4.3</td>\n",
                     "      <td>0</td>\n",
                     "      <td>0</td>\n",
                     "      <td>0</td>\n",
                     "      <td>0</td>\n",
                     "      <td>0</td>\n",
                     "      <td>...</td>\n",
                     "      <td>0</td>\n",
                     "      <td>0</td>\n",
                     "      <td>0</td>\n",
                     "      <td>1</td>\n",
                     "      <td>0</td>\n",
                     "      <td>0</td>\n",
                     "      <td>0</td>\n",
                     "      <td>0</td>\n",
                     "      <td>0</td>\n",
                     "      <td>0</td>\n",
                     "    </tr>\n",
                     "    <tr>\n",
                     "      <th>4</th>\n",
                     "      <td>MarutiWagonR1.0</td>\n",
                     "      <td>289099</td>\n",
                     "      <td>15738</td>\n",
                     "      <td>2013</td>\n",
                     "      <td>4.3</td>\n",
                     "      <td>0</td>\n",
                     "      <td>0</td>\n",
                     "      <td>1</td>\n",
                     "      <td>0</td>\n",
                     "      <td>0</td>\n",
                     "      <td>...</td>\n",
                     "      <td>0</td>\n",
                     "      <td>0</td>\n",
                     "      <td>0</td>\n",
                     "      <td>0</td>\n",
                     "      <td>0</td>\n",
                     "      <td>0</td>\n",
                     "      <td>0</td>\n",
                     "      <td>0</td>\n",
                     "      <td>0</td>\n",
                     "      <td>0</td>\n",
                     "    </tr>\n",
                     "  </tbody>\n",
                     "</table>\n",
                     "<p>5 rows × 536 columns</p>\n",
                     "</div>"
                  ],
                  "text/plain": [
                     "                Model  Selling Price  Kilometers Driven  Year  Car Condition  \\\n",
                     "0  MarutiWagonR1.0LXI         312165              82238  2014            4.2   \n",
                     "1     ToyotaEtiosLiva         313799              30558  2013            4.4   \n",
                     "2       MarutiAlto800         295999              22164  2018            4.8   \n",
                     "3         MarutiSwift         435199              30535  2013            4.3   \n",
                     "4     MarutiWagonR1.0         289099              15738  2013            4.3   \n",
                     "\n",
                     "   OHE_Second Owner  OHE_Third Owner  OHE_Petrol  OHE_Petrol + CNG  \\\n",
                     "0                 0                0           0                 1   \n",
                     "1                 0                0           1                 0   \n",
                     "2                 0                0           1                 0   \n",
                     "3                 0                0           0                 0   \n",
                     "4                 0                0           1                 0   \n",
                     "\n",
                     "   OHE_Petrol + LPG  ...  OHE_31-12-2020  OHE_31-12-2021  OHE_3rd Party  \\\n",
                     "0                 0  ...               0               0              0   \n",
                     "1                 0  ...               0               0              0   \n",
                     "2                 0  ...               0               0              0   \n",
                     "3                 0  ...               0               0              0   \n",
                     "4                 0  ...               0               0              0   \n",
                     "\n",
                     "   OHE_Comp  OHE_Comprehensive  OHE_Expired  OHE_Insurance Expired  \\\n",
                     "0         0                  0            1                      0   \n",
                     "1         0                  0            0                      0   \n",
                     "2         0                  0            0                      0   \n",
                     "3         1                  0            0                      0   \n",
                     "4         0                  0            0                      0   \n",
                     "\n",
                     "   OHE_Third_party  OHE_Zero Depreciation  OHE_Zero_Dep  \n",
                     "0                0                      0             0  \n",
                     "1                0                      0             0  \n",
                     "2                0                      0             0  \n",
                     "3                0                      0             0  \n",
                     "4                0                      0             0  \n",
                     "\n",
                     "[5 rows x 536 columns]"
                  ]
               },
               "execution_count": 22,
               "metadata": {},
               "output_type": "execute_result"
            }
         ],
         "source": [
            "car_data_hipot2.head()"
         ]
      },
      {
         "cell_type": "code",
         "execution_count": 23,
         "metadata": {},
         "outputs": [],
         "source": [
            "# Eliminamos la columna Model\n",
            "car_data_hipot2 = car_data_hipot2.drop('Model', axis=1)"
         ]
      },
      {
         "cell_type": "code",
         "execution_count": 24,
         "metadata": {},
         "outputs": [
            {
               "data": {
                  "text/html": [
                     "<div>\n",
                     "<style scoped>\n",
                     "    .dataframe tbody tr th:only-of-type {\n",
                     "        vertical-align: middle;\n",
                     "    }\n",
                     "\n",
                     "    .dataframe tbody tr th {\n",
                     "        vertical-align: top;\n",
                     "    }\n",
                     "\n",
                     "    .dataframe thead th {\n",
                     "        text-align: right;\n",
                     "    }\n",
                     "</style>\n",
                     "<table border=\"1\" class=\"dataframe\">\n",
                     "  <thead>\n",
                     "    <tr style=\"text-align: right;\">\n",
                     "      <th></th>\n",
                     "      <th>Selling Price</th>\n",
                     "      <th>Kilometers Driven</th>\n",
                     "      <th>Year</th>\n",
                     "      <th>Car Condition</th>\n",
                     "      <th>OHE_Second Owner</th>\n",
                     "      <th>OHE_Third Owner</th>\n",
                     "      <th>OHE_Petrol</th>\n",
                     "      <th>OHE_Petrol + CNG</th>\n",
                     "      <th>OHE_Petrol + LPG</th>\n",
                     "      <th>OHE_DL10</th>\n",
                     "      <th>...</th>\n",
                     "      <th>OHE_31-12-2020</th>\n",
                     "      <th>OHE_31-12-2021</th>\n",
                     "      <th>OHE_3rd Party</th>\n",
                     "      <th>OHE_Comp</th>\n",
                     "      <th>OHE_Comprehensive</th>\n",
                     "      <th>OHE_Expired</th>\n",
                     "      <th>OHE_Insurance Expired</th>\n",
                     "      <th>OHE_Third_party</th>\n",
                     "      <th>OHE_Zero Depreciation</th>\n",
                     "      <th>OHE_Zero_Dep</th>\n",
                     "    </tr>\n",
                     "  </thead>\n",
                     "  <tbody>\n",
                     "    <tr>\n",
                     "      <th>0</th>\n",
                     "      <td>312165</td>\n",
                     "      <td>82238</td>\n",
                     "      <td>2014</td>\n",
                     "      <td>4.2</td>\n",
                     "      <td>0</td>\n",
                     "      <td>0</td>\n",
                     "      <td>0</td>\n",
                     "      <td>1</td>\n",
                     "      <td>0</td>\n",
                     "      <td>0</td>\n",
                     "      <td>...</td>\n",
                     "      <td>0</td>\n",
                     "      <td>0</td>\n",
                     "      <td>0</td>\n",
                     "      <td>0</td>\n",
                     "      <td>0</td>\n",
                     "      <td>1</td>\n",
                     "      <td>0</td>\n",
                     "      <td>0</td>\n",
                     "      <td>0</td>\n",
                     "      <td>0</td>\n",
                     "    </tr>\n",
                     "    <tr>\n",
                     "      <th>1</th>\n",
                     "      <td>313799</td>\n",
                     "      <td>30558</td>\n",
                     "      <td>2013</td>\n",
                     "      <td>4.4</td>\n",
                     "      <td>0</td>\n",
                     "      <td>0</td>\n",
                     "      <td>1</td>\n",
                     "      <td>0</td>\n",
                     "      <td>0</td>\n",
                     "      <td>0</td>\n",
                     "      <td>...</td>\n",
                     "      <td>0</td>\n",
                     "      <td>0</td>\n",
                     "      <td>0</td>\n",
                     "      <td>0</td>\n",
                     "      <td>0</td>\n",
                     "      <td>0</td>\n",
                     "      <td>0</td>\n",
                     "      <td>0</td>\n",
                     "      <td>0</td>\n",
                     "      <td>0</td>\n",
                     "    </tr>\n",
                     "    <tr>\n",
                     "      <th>2</th>\n",
                     "      <td>295999</td>\n",
                     "      <td>22164</td>\n",
                     "      <td>2018</td>\n",
                     "      <td>4.8</td>\n",
                     "      <td>0</td>\n",
                     "      <td>0</td>\n",
                     "      <td>1</td>\n",
                     "      <td>0</td>\n",
                     "      <td>0</td>\n",
                     "      <td>0</td>\n",
                     "      <td>...</td>\n",
                     "      <td>0</td>\n",
                     "      <td>0</td>\n",
                     "      <td>0</td>\n",
                     "      <td>0</td>\n",
                     "      <td>0</td>\n",
                     "      <td>0</td>\n",
                     "      <td>0</td>\n",
                     "      <td>0</td>\n",
                     "      <td>0</td>\n",
                     "      <td>0</td>\n",
                     "    </tr>\n",
                     "    <tr>\n",
                     "      <th>3</th>\n",
                     "      <td>435199</td>\n",
                     "      <td>30535</td>\n",
                     "      <td>2013</td>\n",
                     "      <td>4.3</td>\n",
                     "      <td>0</td>\n",
                     "      <td>0</td>\n",
                     "      <td>0</td>\n",
                     "      <td>0</td>\n",
                     "      <td>0</td>\n",
                     "      <td>0</td>\n",
                     "      <td>...</td>\n",
                     "      <td>0</td>\n",
                     "      <td>0</td>\n",
                     "      <td>0</td>\n",
                     "      <td>1</td>\n",
                     "      <td>0</td>\n",
                     "      <td>0</td>\n",
                     "      <td>0</td>\n",
                     "      <td>0</td>\n",
                     "      <td>0</td>\n",
                     "      <td>0</td>\n",
                     "    </tr>\n",
                     "    <tr>\n",
                     "      <th>4</th>\n",
                     "      <td>289099</td>\n",
                     "      <td>15738</td>\n",
                     "      <td>2013</td>\n",
                     "      <td>4.3</td>\n",
                     "      <td>0</td>\n",
                     "      <td>0</td>\n",
                     "      <td>1</td>\n",
                     "      <td>0</td>\n",
                     "      <td>0</td>\n",
                     "      <td>0</td>\n",
                     "      <td>...</td>\n",
                     "      <td>0</td>\n",
                     "      <td>0</td>\n",
                     "      <td>0</td>\n",
                     "      <td>0</td>\n",
                     "      <td>0</td>\n",
                     "      <td>0</td>\n",
                     "      <td>0</td>\n",
                     "      <td>0</td>\n",
                     "      <td>0</td>\n",
                     "      <td>0</td>\n",
                     "    </tr>\n",
                     "  </tbody>\n",
                     "</table>\n",
                     "<p>5 rows × 535 columns</p>\n",
                     "</div>"
                  ],
                  "text/plain": [
                     "   Selling Price  Kilometers Driven  Year  Car Condition  OHE_Second Owner  \\\n",
                     "0         312165              82238  2014            4.2                 0   \n",
                     "1         313799              30558  2013            4.4                 0   \n",
                     "2         295999              22164  2018            4.8                 0   \n",
                     "3         435199              30535  2013            4.3                 0   \n",
                     "4         289099              15738  2013            4.3                 0   \n",
                     "\n",
                     "   OHE_Third Owner  OHE_Petrol  OHE_Petrol + CNG  OHE_Petrol + LPG  OHE_DL10  \\\n",
                     "0                0           0                 1                 0         0   \n",
                     "1                0           1                 0                 0         0   \n",
                     "2                0           1                 0                 0         0   \n",
                     "3                0           0                 0                 0         0   \n",
                     "4                0           1                 0                 0         0   \n",
                     "\n",
                     "   ...  OHE_31-12-2020  OHE_31-12-2021  OHE_3rd Party  OHE_Comp  \\\n",
                     "0  ...               0               0              0         0   \n",
                     "1  ...               0               0              0         0   \n",
                     "2  ...               0               0              0         0   \n",
                     "3  ...               0               0              0         1   \n",
                     "4  ...               0               0              0         0   \n",
                     "\n",
                     "   OHE_Comprehensive  OHE_Expired  OHE_Insurance Expired  OHE_Third_party  \\\n",
                     "0                  0            1                      0                0   \n",
                     "1                  0            0                      0                0   \n",
                     "2                  0            0                      0                0   \n",
                     "3                  0            0                      0                0   \n",
                     "4                  0            0                      0                0   \n",
                     "\n",
                     "   OHE_Zero Depreciation  OHE_Zero_Dep  \n",
                     "0                      0             0  \n",
                     "1                      0             0  \n",
                     "2                      0             0  \n",
                     "3                      0             0  \n",
                     "4                      0             0  \n",
                     "\n",
                     "[5 rows x 535 columns]"
                  ]
               },
               "execution_count": 24,
               "metadata": {},
               "output_type": "execute_result"
            }
         ],
         "source": [
            "car_data_hipot2.head()"
         ]
      },
      {
         "cell_type": "code",
         "execution_count": 25,
         "metadata": {},
         "outputs": [],
         "source": [
            "X_hipot2 = car_data_hipot2.drop('Selling Price', axis=1) # Variables independientes\n",
            "y_hipot2 = car_data_hipot2['Selling Price'] # Variable dependiente"
         ]
      },
      {
         "cell_type": "code",
         "execution_count": 26,
         "metadata": {},
         "outputs": [],
         "source": [
            "X_hipot2_train, X_hipot2_test, y_hipot2_train, y_hipot2_test = train_test_split(X_hipot2, y_hipot2, test_size=0.2, random_state=43)"
         ]
      },
      {
         "cell_type": "code",
         "execution_count": 27,
         "metadata": {},
         "outputs": [
            {
               "data": {
                  "text/html": [
                     "<style>#sk-container-id-2 {color: black;background-color: white;}#sk-container-id-2 pre{padding: 0;}#sk-container-id-2 div.sk-toggleable {background-color: white;}#sk-container-id-2 label.sk-toggleable__label {cursor: pointer;display: block;width: 100%;margin-bottom: 0;padding: 0.3em;box-sizing: border-box;text-align: center;}#sk-container-id-2 label.sk-toggleable__label-arrow:before {content: \"▸\";float: left;margin-right: 0.25em;color: #696969;}#sk-container-id-2 label.sk-toggleable__label-arrow:hover:before {color: black;}#sk-container-id-2 div.sk-estimator:hover label.sk-toggleable__label-arrow:before {color: black;}#sk-container-id-2 div.sk-toggleable__content {max-height: 0;max-width: 0;overflow: hidden;text-align: left;background-color: #f0f8ff;}#sk-container-id-2 div.sk-toggleable__content pre {margin: 0.2em;color: black;border-radius: 0.25em;background-color: #f0f8ff;}#sk-container-id-2 input.sk-toggleable__control:checked~div.sk-toggleable__content {max-height: 200px;max-width: 100%;overflow: auto;}#sk-container-id-2 input.sk-toggleable__control:checked~label.sk-toggleable__label-arrow:before {content: \"▾\";}#sk-container-id-2 div.sk-estimator input.sk-toggleable__control:checked~label.sk-toggleable__label {background-color: #d4ebff;}#sk-container-id-2 div.sk-label input.sk-toggleable__control:checked~label.sk-toggleable__label {background-color: #d4ebff;}#sk-container-id-2 input.sk-hidden--visually {border: 0;clip: rect(1px 1px 1px 1px);clip: rect(1px, 1px, 1px, 1px);height: 1px;margin: -1px;overflow: hidden;padding: 0;position: absolute;width: 1px;}#sk-container-id-2 div.sk-estimator {font-family: monospace;background-color: #f0f8ff;border: 1px dotted black;border-radius: 0.25em;box-sizing: border-box;margin-bottom: 0.5em;}#sk-container-id-2 div.sk-estimator:hover {background-color: #d4ebff;}#sk-container-id-2 div.sk-parallel-item::after {content: \"\";width: 100%;border-bottom: 1px solid gray;flex-grow: 1;}#sk-container-id-2 div.sk-label:hover label.sk-toggleable__label {background-color: #d4ebff;}#sk-container-id-2 div.sk-serial::before {content: \"\";position: absolute;border-left: 1px solid gray;box-sizing: border-box;top: 0;bottom: 0;left: 50%;z-index: 0;}#sk-container-id-2 div.sk-serial {display: flex;flex-direction: column;align-items: center;background-color: white;padding-right: 0.2em;padding-left: 0.2em;position: relative;}#sk-container-id-2 div.sk-item {position: relative;z-index: 1;}#sk-container-id-2 div.sk-parallel {display: flex;align-items: stretch;justify-content: center;background-color: white;position: relative;}#sk-container-id-2 div.sk-item::before, #sk-container-id-2 div.sk-parallel-item::before {content: \"\";position: absolute;border-left: 1px solid gray;box-sizing: border-box;top: 0;bottom: 0;left: 50%;z-index: -1;}#sk-container-id-2 div.sk-parallel-item {display: flex;flex-direction: column;z-index: 1;position: relative;background-color: white;}#sk-container-id-2 div.sk-parallel-item:first-child::after {align-self: flex-end;width: 50%;}#sk-container-id-2 div.sk-parallel-item:last-child::after {align-self: flex-start;width: 50%;}#sk-container-id-2 div.sk-parallel-item:only-child::after {width: 0;}#sk-container-id-2 div.sk-dashed-wrapped {border: 1px dashed gray;margin: 0 0.4em 0.5em 0.4em;box-sizing: border-box;padding-bottom: 0.4em;background-color: white;}#sk-container-id-2 div.sk-label label {font-family: monospace;font-weight: bold;display: inline-block;line-height: 1.2em;}#sk-container-id-2 div.sk-label-container {text-align: center;}#sk-container-id-2 div.sk-container {/* jupyter's `normalize.less` sets `[hidden] { display: none; }` but bootstrap.min.css set `[hidden] { display: none !important; }` so we also need the `!important` here to be able to override the default hidden behavior on the sphinx rendered scikit-learn.org. See: https://github.com/scikit-learn/scikit-learn/issues/21755 */display: inline-block !important;position: relative;}#sk-container-id-2 div.sk-text-repr-fallback {display: none;}</style><div id=\"sk-container-id-2\" class=\"sk-top-container\"><div class=\"sk-text-repr-fallback\"><pre>LinearRegression()</pre><b>In a Jupyter environment, please rerun this cell to show the HTML representation or trust the notebook. <br />On GitHub, the HTML representation is unable to render, please try loading this page with nbviewer.org.</b></div><div class=\"sk-container\" hidden><div class=\"sk-item\"><div class=\"sk-estimator sk-toggleable\"><input class=\"sk-toggleable__control sk-hidden--visually\" id=\"sk-estimator-id-2\" type=\"checkbox\" checked><label for=\"sk-estimator-id-2\" class=\"sk-toggleable__label sk-toggleable__label-arrow\">LinearRegression</label><div class=\"sk-toggleable__content\"><pre>LinearRegression()</pre></div></div></div></div></div>"
                  ],
                  "text/plain": [
                     "LinearRegression()"
                  ]
               },
               "execution_count": 27,
               "metadata": {},
               "output_type": "execute_result"
            }
         ],
         "source": [
            "regresion_lineal = LinearRegression()\n",
            "regresion_lineal.fit(X_hipot2_train, y_hipot2_train)"
         ]
      },
      {
         "cell_type": "code",
         "execution_count": 28,
         "metadata": {},
         "outputs": [
            {
               "name": "stdout",
               "output_type": "stream",
               "text": [
                  "Error cuadrático medio (MSE) TRAIN 18711749931.177658\n",
                  "Error cuadrático medio (MSE) TEST 2.041477424133804e+22\n"
               ]
            }
         ],
         "source": [
            "# Predecimos los valores y para los datos usados en el entrenamiento\n",
            "prediction_entrenamiento = regresion_lineal.predict(X_hipot2_train)\n",
            "\n",
            "# Calculamos el MSE\n",
            "mse_hipot2_train = mean_squared_error(y_true=y_hipot2_train, y_pred=prediction_entrenamiento)\n",
            "print(f'Error cuadrático medio (MSE) TRAIN {mse_hipot2_train}')\n",
            "\n",
            "# Predecimos los valores y para los datos de validación\n",
            "prediction_validacion = regresion_lineal.predict(X_hipot2_test)\n",
            "\n",
            "# Calculamos el MSE\n",
            "mse_hipot2_test = mean_squared_error(y_true=y_hipot2_test, y_pred=prediction_validacion)\n",
            "print(f'Error cuadrático medio (MSE) TEST {mse_hipot2_test}')"
         ]
      },
      {
         "attachments": {},
         "cell_type": "markdown",
         "metadata": {},
         "source": [
            "HIPÓTESIS 3: Normalización de variable objetivo.\n",
            "\n",
            "Para ello utlizaremos los mecanismos que nos ofrece ScikitLearn para normalizar con los distintos Scaler que posee."
         ]
      },
      {
         "cell_type": "code",
         "execution_count": 37,
         "metadata": {},
         "outputs": [],
         "source": [
            "car_data_hipot3 = pd.get_dummies(data=car_data, prefix='OHE', prefix_sep='_', columns=categorical_columns_2, drop_first=True, dtype='int8')"
         ]
      },
      {
         "cell_type": "code",
         "execution_count": 38,
         "metadata": {},
         "outputs": [],
         "source": [
            "car_data_hipot3 = car_data_hipot3.drop('Model', axis=1)"
         ]
      },
      {
         "cell_type": "code",
         "execution_count": 43,
         "metadata": {},
         "outputs": [],
         "source": [
            "X_hipot3 = car_data_hipot3.drop('Selling Price', axis=1) # Variables independientes\n",
            "y_hipot3 = car_data_hipot3['Selling Price'] # Variable dependiente"
         ]
      },
      {
         "cell_type": "code",
         "execution_count": 44,
         "metadata": {},
         "outputs": [],
         "source": [
            "from sklearn.preprocessing import StandardScaler\n",
            "scaler = StandardScaler()\n",
            "\n",
            "# Los algoritmos de preprocessing de sklearn están preparados para convertir matrices, por lo que tenemos que hacer una transformación de \n",
            "# nuestra variable y ya que es una variable de tipo Series\n",
            "#para ello, hacemos un .to_numpy() que nos convierte la serie en un array y luego hacemos reshape (-1, 1) que transforma un array de 1xn en una\n",
            "#matriz de nx1\n",
            "y_hipot3 = scaler.fit_transform(y_hipot3.to_numpy().reshape(-1,1))\n",
            "\n",
            "# Volvemos a transformar nuestra variable en un array de 1xn\n",
            "y_hipot3 = y_hipot3.reshape(1,-1)[0]"
         ]
      },
      {
         "cell_type": "code",
         "execution_count": 49,
         "metadata": {},
         "outputs": [],
         "source": [
            "X_hipot3_train, X_hipot3_test, y_hipot3_train, y_hipot3_test = train_test_split(X_hipot3, y_hipot3, test_size=0.2, random_state=43)"
         ]
      },
      {
         "cell_type": "code",
         "execution_count": 50,
         "metadata": {},
         "outputs": [
            {
               "data": {
                  "text/html": [
                     "<style>#sk-container-id-5 {color: black;background-color: white;}#sk-container-id-5 pre{padding: 0;}#sk-container-id-5 div.sk-toggleable {background-color: white;}#sk-container-id-5 label.sk-toggleable__label {cursor: pointer;display: block;width: 100%;margin-bottom: 0;padding: 0.3em;box-sizing: border-box;text-align: center;}#sk-container-id-5 label.sk-toggleable__label-arrow:before {content: \"▸\";float: left;margin-right: 0.25em;color: #696969;}#sk-container-id-5 label.sk-toggleable__label-arrow:hover:before {color: black;}#sk-container-id-5 div.sk-estimator:hover label.sk-toggleable__label-arrow:before {color: black;}#sk-container-id-5 div.sk-toggleable__content {max-height: 0;max-width: 0;overflow: hidden;text-align: left;background-color: #f0f8ff;}#sk-container-id-5 div.sk-toggleable__content pre {margin: 0.2em;color: black;border-radius: 0.25em;background-color: #f0f8ff;}#sk-container-id-5 input.sk-toggleable__control:checked~div.sk-toggleable__content {max-height: 200px;max-width: 100%;overflow: auto;}#sk-container-id-5 input.sk-toggleable__control:checked~label.sk-toggleable__label-arrow:before {content: \"▾\";}#sk-container-id-5 div.sk-estimator input.sk-toggleable__control:checked~label.sk-toggleable__label {background-color: #d4ebff;}#sk-container-id-5 div.sk-label input.sk-toggleable__control:checked~label.sk-toggleable__label {background-color: #d4ebff;}#sk-container-id-5 input.sk-hidden--visually {border: 0;clip: rect(1px 1px 1px 1px);clip: rect(1px, 1px, 1px, 1px);height: 1px;margin: -1px;overflow: hidden;padding: 0;position: absolute;width: 1px;}#sk-container-id-5 div.sk-estimator {font-family: monospace;background-color: #f0f8ff;border: 1px dotted black;border-radius: 0.25em;box-sizing: border-box;margin-bottom: 0.5em;}#sk-container-id-5 div.sk-estimator:hover {background-color: #d4ebff;}#sk-container-id-5 div.sk-parallel-item::after {content: \"\";width: 100%;border-bottom: 1px solid gray;flex-grow: 1;}#sk-container-id-5 div.sk-label:hover label.sk-toggleable__label {background-color: #d4ebff;}#sk-container-id-5 div.sk-serial::before {content: \"\";position: absolute;border-left: 1px solid gray;box-sizing: border-box;top: 0;bottom: 0;left: 50%;z-index: 0;}#sk-container-id-5 div.sk-serial {display: flex;flex-direction: column;align-items: center;background-color: white;padding-right: 0.2em;padding-left: 0.2em;position: relative;}#sk-container-id-5 div.sk-item {position: relative;z-index: 1;}#sk-container-id-5 div.sk-parallel {display: flex;align-items: stretch;justify-content: center;background-color: white;position: relative;}#sk-container-id-5 div.sk-item::before, #sk-container-id-5 div.sk-parallel-item::before {content: \"\";position: absolute;border-left: 1px solid gray;box-sizing: border-box;top: 0;bottom: 0;left: 50%;z-index: -1;}#sk-container-id-5 div.sk-parallel-item {display: flex;flex-direction: column;z-index: 1;position: relative;background-color: white;}#sk-container-id-5 div.sk-parallel-item:first-child::after {align-self: flex-end;width: 50%;}#sk-container-id-5 div.sk-parallel-item:last-child::after {align-self: flex-start;width: 50%;}#sk-container-id-5 div.sk-parallel-item:only-child::after {width: 0;}#sk-container-id-5 div.sk-dashed-wrapped {border: 1px dashed gray;margin: 0 0.4em 0.5em 0.4em;box-sizing: border-box;padding-bottom: 0.4em;background-color: white;}#sk-container-id-5 div.sk-label label {font-family: monospace;font-weight: bold;display: inline-block;line-height: 1.2em;}#sk-container-id-5 div.sk-label-container {text-align: center;}#sk-container-id-5 div.sk-container {/* jupyter's `normalize.less` sets `[hidden] { display: none; }` but bootstrap.min.css set `[hidden] { display: none !important; }` so we also need the `!important` here to be able to override the default hidden behavior on the sphinx rendered scikit-learn.org. See: https://github.com/scikit-learn/scikit-learn/issues/21755 */display: inline-block !important;position: relative;}#sk-container-id-5 div.sk-text-repr-fallback {display: none;}</style><div id=\"sk-container-id-5\" class=\"sk-top-container\"><div class=\"sk-text-repr-fallback\"><pre>LinearRegression()</pre><b>In a Jupyter environment, please rerun this cell to show the HTML representation or trust the notebook. <br />On GitHub, the HTML representation is unable to render, please try loading this page with nbviewer.org.</b></div><div class=\"sk-container\" hidden><div class=\"sk-item\"><div class=\"sk-estimator sk-toggleable\"><input class=\"sk-toggleable__control sk-hidden--visually\" id=\"sk-estimator-id-5\" type=\"checkbox\" checked><label for=\"sk-estimator-id-5\" class=\"sk-toggleable__label sk-toggleable__label-arrow\">LinearRegression</label><div class=\"sk-toggleable__content\"><pre>LinearRegression()</pre></div></div></div></div></div>"
                  ],
                  "text/plain": [
                     "LinearRegression()"
                  ]
               },
               "execution_count": 50,
               "metadata": {},
               "output_type": "execute_result"
            }
         ],
         "source": [
            "regresion_lineal = LinearRegression()\n",
            "regresion_lineal.fit(X_hipot3_train, y_hipot3_train)"
         ]
      },
      {
         "cell_type": "code",
         "execution_count": 51,
         "metadata": {},
         "outputs": [
            {
               "name": "stdout",
               "output_type": "stream",
               "text": [
                  "Error cuadrático medio (MSE) TRAIN 0.3611683027840423\n",
                  "Error cuadrático medio (MSE) TEST 394039541549.1389\n"
               ]
            }
         ],
         "source": [
            "# Predecimos los valores y para los datos usados en el entrenamiento\n",
            "prediction_entrenamiento = regresion_lineal.predict(X_hipot3_train)\n",
            "\n",
            "# Calculamos el MSE\n",
            "mse_hipot3_train = mean_squared_error(y_true=y_hipot3_train, y_pred=prediction_entrenamiento)\n",
            "print(f'Error cuadrático medio (MSE) TRAIN {mse_hipot3_train}')\n",
            "\n",
            "# Predecimos los valores y para los datos de validación\n",
            "prediction_validacion = regresion_lineal.predict(X_hipot3_test)\n",
            "\n",
            "# Calculamos el MSE\n",
            "mse_hipot3_test = mean_squared_error(y_true=y_hipot3_test, y_pred=prediction_validacion)\n",
            "print(f'Error cuadrático medio (MSE) TEST {mse_hipot3_test}')"
         ]
      },
      {
         "attachments": {},
         "cell_type": "markdown",
         "metadata": {},
         "source": [
            "HIPÓTESIS 5: Utilizando otro escalado"
         ]
      },
      {
         "cell_type": "code",
         "execution_count": 59,
         "metadata": {},
         "outputs": [],
         "source": [
            "car_data_hipot5 = pd.get_dummies(data=car_data, prefix='OHE', prefix_sep='_', columns=categorical_columns_2, drop_first=True, dtype='int8')"
         ]
      },
      {
         "cell_type": "code",
         "execution_count": 60,
         "metadata": {},
         "outputs": [],
         "source": [
            "car_data_hipot5 = car_data_hipot5.drop('Model', axis=1)"
         ]
      },
      {
         "cell_type": "code",
         "execution_count": 61,
         "metadata": {},
         "outputs": [],
         "source": [
            "from sklearn.preprocessing import MaxAbsScaler\n",
            "\n",
            "scaler = MaxAbsScaler()\n",
            "\n",
            "car_data_hipot5[['Kilometers Driven', 'Selling Price']] = scaler.fit_transform(car_data_hipot5[['Kilometers Driven', 'Selling Price']])"
         ]
      },
      {
         "cell_type": "code",
         "execution_count": 62,
         "metadata": {},
         "outputs": [],
         "source": [
            "X_hipot5 = car_data_hipot5.drop('Selling Price', axis=1) # Variables independientes\n",
            "y_hipot5 = car_data_hipot5['Selling Price'] # Variable dependiente"
         ]
      },
      {
         "cell_type": "code",
         "execution_count": 63,
         "metadata": {},
         "outputs": [],
         "source": [
            "X_hipot5_train, X_hipot5_test, y_hipot5_train, y_hipot5_test = train_test_split(X_hipot5, y_hipot5, test_size=0.2, random_state=43)"
         ]
      },
      {
         "cell_type": "code",
         "execution_count": 64,
         "metadata": {},
         "outputs": [
            {
               "data": {
                  "text/html": [
                     "<style>#sk-container-id-6 {color: black;background-color: white;}#sk-container-id-6 pre{padding: 0;}#sk-container-id-6 div.sk-toggleable {background-color: white;}#sk-container-id-6 label.sk-toggleable__label {cursor: pointer;display: block;width: 100%;margin-bottom: 0;padding: 0.3em;box-sizing: border-box;text-align: center;}#sk-container-id-6 label.sk-toggleable__label-arrow:before {content: \"▸\";float: left;margin-right: 0.25em;color: #696969;}#sk-container-id-6 label.sk-toggleable__label-arrow:hover:before {color: black;}#sk-container-id-6 div.sk-estimator:hover label.sk-toggleable__label-arrow:before {color: black;}#sk-container-id-6 div.sk-toggleable__content {max-height: 0;max-width: 0;overflow: hidden;text-align: left;background-color: #f0f8ff;}#sk-container-id-6 div.sk-toggleable__content pre {margin: 0.2em;color: black;border-radius: 0.25em;background-color: #f0f8ff;}#sk-container-id-6 input.sk-toggleable__control:checked~div.sk-toggleable__content {max-height: 200px;max-width: 100%;overflow: auto;}#sk-container-id-6 input.sk-toggleable__control:checked~label.sk-toggleable__label-arrow:before {content: \"▾\";}#sk-container-id-6 div.sk-estimator input.sk-toggleable__control:checked~label.sk-toggleable__label {background-color: #d4ebff;}#sk-container-id-6 div.sk-label input.sk-toggleable__control:checked~label.sk-toggleable__label {background-color: #d4ebff;}#sk-container-id-6 input.sk-hidden--visually {border: 0;clip: rect(1px 1px 1px 1px);clip: rect(1px, 1px, 1px, 1px);height: 1px;margin: -1px;overflow: hidden;padding: 0;position: absolute;width: 1px;}#sk-container-id-6 div.sk-estimator {font-family: monospace;background-color: #f0f8ff;border: 1px dotted black;border-radius: 0.25em;box-sizing: border-box;margin-bottom: 0.5em;}#sk-container-id-6 div.sk-estimator:hover {background-color: #d4ebff;}#sk-container-id-6 div.sk-parallel-item::after {content: \"\";width: 100%;border-bottom: 1px solid gray;flex-grow: 1;}#sk-container-id-6 div.sk-label:hover label.sk-toggleable__label {background-color: #d4ebff;}#sk-container-id-6 div.sk-serial::before {content: \"\";position: absolute;border-left: 1px solid gray;box-sizing: border-box;top: 0;bottom: 0;left: 50%;z-index: 0;}#sk-container-id-6 div.sk-serial {display: flex;flex-direction: column;align-items: center;background-color: white;padding-right: 0.2em;padding-left: 0.2em;position: relative;}#sk-container-id-6 div.sk-item {position: relative;z-index: 1;}#sk-container-id-6 div.sk-parallel {display: flex;align-items: stretch;justify-content: center;background-color: white;position: relative;}#sk-container-id-6 div.sk-item::before, #sk-container-id-6 div.sk-parallel-item::before {content: \"\";position: absolute;border-left: 1px solid gray;box-sizing: border-box;top: 0;bottom: 0;left: 50%;z-index: -1;}#sk-container-id-6 div.sk-parallel-item {display: flex;flex-direction: column;z-index: 1;position: relative;background-color: white;}#sk-container-id-6 div.sk-parallel-item:first-child::after {align-self: flex-end;width: 50%;}#sk-container-id-6 div.sk-parallel-item:last-child::after {align-self: flex-start;width: 50%;}#sk-container-id-6 div.sk-parallel-item:only-child::after {width: 0;}#sk-container-id-6 div.sk-dashed-wrapped {border: 1px dashed gray;margin: 0 0.4em 0.5em 0.4em;box-sizing: border-box;padding-bottom: 0.4em;background-color: white;}#sk-container-id-6 div.sk-label label {font-family: monospace;font-weight: bold;display: inline-block;line-height: 1.2em;}#sk-container-id-6 div.sk-label-container {text-align: center;}#sk-container-id-6 div.sk-container {/* jupyter's `normalize.less` sets `[hidden] { display: none; }` but bootstrap.min.css set `[hidden] { display: none !important; }` so we also need the `!important` here to be able to override the default hidden behavior on the sphinx rendered scikit-learn.org. See: https://github.com/scikit-learn/scikit-learn/issues/21755 */display: inline-block !important;position: relative;}#sk-container-id-6 div.sk-text-repr-fallback {display: none;}</style><div id=\"sk-container-id-6\" class=\"sk-top-container\"><div class=\"sk-text-repr-fallback\"><pre>LinearRegression()</pre><b>In a Jupyter environment, please rerun this cell to show the HTML representation or trust the notebook. <br />On GitHub, the HTML representation is unable to render, please try loading this page with nbviewer.org.</b></div><div class=\"sk-container\" hidden><div class=\"sk-item\"><div class=\"sk-estimator sk-toggleable\"><input class=\"sk-toggleable__control sk-hidden--visually\" id=\"sk-estimator-id-6\" type=\"checkbox\" checked><label for=\"sk-estimator-id-6\" class=\"sk-toggleable__label sk-toggleable__label-arrow\">LinearRegression</label><div class=\"sk-toggleable__content\"><pre>LinearRegression()</pre></div></div></div></div></div>"
                  ],
                  "text/plain": [
                     "LinearRegression()"
                  ]
               },
               "execution_count": 64,
               "metadata": {},
               "output_type": "execute_result"
            }
         ],
         "source": [
            "regresion_lineal = LinearRegression()\n",
            "regresion_lineal.fit(X_hipot5_train, y_hipot5_train)"
         ]
      },
      {
         "cell_type": "code",
         "execution_count": 65,
         "metadata": {},
         "outputs": [
            {
               "name": "stdout",
               "output_type": "stream",
               "text": [
                  "Error cuadrático medio (MSE) TRAIN 0.004908831688540743\n",
                  "Error cuadrático medio (MSE) TEST 0.008498384590177783\n"
               ]
            }
         ],
         "source": [
            "# Predecimos los valores y para los datos usados en el entrenamiento\n",
            "prediction_entrenamiento = regresion_lineal.predict(X_hipot5_train)\n",
            "\n",
            "# Calculamos el MSE\n",
            "mse_hipot5_train = mean_squared_error(y_true=y_hipot5_train, y_pred=prediction_entrenamiento)\n",
            "print(f'Error cuadrático medio (MSE) TRAIN {mse_hipot5_train}')\n",
            "\n",
            "# Predecimos los valores y para los datos de validación\n",
            "prediction_validacion = regresion_lineal.predict(X_hipot5_test)\n",
            "\n",
            "# Calculamos el MSE\n",
            "mse_hipot5_test = mean_squared_error(y_true=y_hipot5_test, y_pred=prediction_validacion)\n",
            "print(f'Error cuadrático medio (MSE) TEST {mse_hipot5_test}')"
         ]
      },
      {
         "cell_type": "code",
         "execution_count": null,
         "metadata": {},
         "outputs": [],
         "source": []
      }
   ],
   "metadata": {
      "kernelspec": {
         "display_name": "Python 3.10.8 ('master_iebs')",
         "language": "python",
         "name": "python3"
      },
      "language_info": {
         "codemirror_mode": {
            "name": "ipython",
            "version": 3
         },
         "file_extension": ".py",
         "mimetype": "text/x-python",
         "name": "python",
         "nbconvert_exporter": "python",
         "pygments_lexer": "ipython3",
         "version": "3.10.8 | packaged by conda-forge | (main, Nov 22 2022, 08:26:04) [GCC 10.4.0]"
      },
      "orig_nbformat": 4,
      "vscode": {
         "interpreter": {
            "hash": "e4a81d9f9e574d93613c85427f7e8830e41117948814d44223f0a50cdb929710"
         }
      }
   },
   "nbformat": 4,
   "nbformat_minor": 2
}