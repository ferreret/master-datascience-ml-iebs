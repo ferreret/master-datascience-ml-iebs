{
  "cells": [
    {
      "cell_type": "code",
      "execution_count": null,
      "metadata": {
        "id": "OCb_HWlptnCO"
      },
      "outputs": [],
      "source": [
        "# CLASE 1\n",
        "\n",
        "# IMPORTACION DE LIBRERIAS\n",
        "import numpy as np\n",
        "import pandas as pd\n",
        "\n",
        "# LIBRERIAS PARA HACER GRAFICOS\n",
        "import seaborn as sns\n",
        "import matplotlib.pyplot as plt\n",
        "import plotly.express as xp"
      ]
    },
    {
      "cell_type": "code",
      "execution_count": null,
      "metadata": {
        "id": "4VhaNUtluLZa"
      },
      "outputs": [],
      "source": [
        "# 2 - CARGA DEL FICHERO DE DATOS\n",
        "file = '/content/data/ASI_casoPractico.csv'\n",
        "data = pd.read_csv(file, sep = ';')\n",
        "data.head()"
      ]
    },
    {
      "cell_type": "code",
      "execution_count": null,
      "metadata": {
        "id": "k-xqQfyMvC96"
      },
      "outputs": [],
      "source": [
        "# 2 - INFORMACION DEL CONJUNTO DE DATOS\n",
        "data.info()"
      ]
    },
    {
      "cell_type": "code",
      "execution_count": null,
      "metadata": {
        "id": "IwyokJ7xvw8z"
      },
      "outputs": [],
      "source": [
        "# 2 - NUMERO DE VALORES UNICOS PARA CADA VARIABLE\n",
        "data.agg(['nunique']).T"
      ]
    },
    {
      "cell_type": "code",
      "execution_count": null,
      "metadata": {
        "colab": {
          "base_uri": "https://localhost:8080/",
          "height": 270
        },
        "id": "AdyTScDdwd04",
        "outputId": "21887192-775d-4ff7-e4bc-0c09e3e2fbf8"
      },
      "outputs": [
        {
          "data": {
            "text/html": [
              "\n",
              "  <div id=\"df-b33e121a-8503-4f42-93e6-073b689bae38\">\n",
              "    <div class=\"colab-df-container\">\n",
              "      <div>\n",
              "<style scoped>\n",
              "    .dataframe tbody tr th:only-of-type {\n",
              "        vertical-align: middle;\n",
              "    }\n",
              "\n",
              "    .dataframe tbody tr th {\n",
              "        vertical-align: top;\n",
              "    }\n",
              "\n",
              "    .dataframe thead th {\n",
              "        text-align: right;\n",
              "    }\n",
              "</style>\n",
              "<table border=\"1\" class=\"dataframe\">\n",
              "  <thead>\n",
              "    <tr style=\"text-align: right;\">\n",
              "      <th></th>\n",
              "      <th>LBE</th>\n",
              "      <th>AC</th>\n",
              "      <th>FM</th>\n",
              "      <th>UC</th>\n",
              "      <th>ASTV</th>\n",
              "      <th>MSTV</th>\n",
              "      <th>ALTV</th>\n",
              "      <th>MLTV</th>\n",
              "      <th>DL</th>\n",
              "      <th>DS</th>\n",
              "      <th>DP</th>\n",
              "      <th>Width</th>\n",
              "      <th>Min</th>\n",
              "      <th>Max</th>\n",
              "      <th>Nmax</th>\n",
              "      <th>Nzeros</th>\n",
              "      <th>Mode</th>\n",
              "      <th>Mean</th>\n",
              "      <th>Median</th>\n",
              "      <th>Variance</th>\n",
              "      <th>Tendency</th>\n",
              "      <th>Target</th>\n",
              "    </tr>\n",
              "  </thead>\n",
              "  <tbody>\n",
              "    <tr>\n",
              "      <th>0</th>\n",
              "      <td>120</td>\n",
              "      <td>0</td>\n",
              "      <td>0</td>\n",
              "      <td>0</td>\n",
              "      <td>73</td>\n",
              "      <td>0.5</td>\n",
              "      <td>43</td>\n",
              "      <td>2.4</td>\n",
              "      <td>0</td>\n",
              "      <td>0</td>\n",
              "      <td>0</td>\n",
              "      <td>64</td>\n",
              "      <td>62</td>\n",
              "      <td>126</td>\n",
              "      <td>2</td>\n",
              "      <td>0</td>\n",
              "      <td>120</td>\n",
              "      <td>137</td>\n",
              "      <td>121</td>\n",
              "      <td>73</td>\n",
              "      <td>1</td>\n",
              "      <td>1</td>\n",
              "    </tr>\n",
              "    <tr>\n",
              "      <th>1</th>\n",
              "      <td>132</td>\n",
              "      <td>4</td>\n",
              "      <td>0</td>\n",
              "      <td>4</td>\n",
              "      <td>17</td>\n",
              "      <td>2.1</td>\n",
              "      <td>0</td>\n",
              "      <td>10.4</td>\n",
              "      <td>2</td>\n",
              "      <td>0</td>\n",
              "      <td>0</td>\n",
              "      <td>130</td>\n",
              "      <td>68</td>\n",
              "      <td>198</td>\n",
              "      <td>6</td>\n",
              "      <td>1</td>\n",
              "      <td>141</td>\n",
              "      <td>136</td>\n",
              "      <td>140</td>\n",
              "      <td>12</td>\n",
              "      <td>0</td>\n",
              "      <td>0</td>\n",
              "    </tr>\n",
              "    <tr>\n",
              "      <th>2</th>\n",
              "      <td>133</td>\n",
              "      <td>2</td>\n",
              "      <td>0</td>\n",
              "      <td>5</td>\n",
              "      <td>16</td>\n",
              "      <td>2.1</td>\n",
              "      <td>0</td>\n",
              "      <td>13.4</td>\n",
              "      <td>2</td>\n",
              "      <td>0</td>\n",
              "      <td>0</td>\n",
              "      <td>130</td>\n",
              "      <td>68</td>\n",
              "      <td>198</td>\n",
              "      <td>5</td>\n",
              "      <td>1</td>\n",
              "      <td>141</td>\n",
              "      <td>135</td>\n",
              "      <td>138</td>\n",
              "      <td>13</td>\n",
              "      <td>0</td>\n",
              "      <td>0</td>\n",
              "    </tr>\n",
              "    <tr>\n",
              "      <th>3</th>\n",
              "      <td>134</td>\n",
              "      <td>2</td>\n",
              "      <td>0</td>\n",
              "      <td>6</td>\n",
              "      <td>16</td>\n",
              "      <td>2.4</td>\n",
              "      <td>0</td>\n",
              "      <td>23.0</td>\n",
              "      <td>2</td>\n",
              "      <td>0</td>\n",
              "      <td>0</td>\n",
              "      <td>117</td>\n",
              "      <td>53</td>\n",
              "      <td>170</td>\n",
              "      <td>11</td>\n",
              "      <td>0</td>\n",
              "      <td>137</td>\n",
              "      <td>134</td>\n",
              "      <td>137</td>\n",
              "      <td>13</td>\n",
              "      <td>1</td>\n",
              "      <td>0</td>\n",
              "    </tr>\n",
              "    <tr>\n",
              "      <th>4</th>\n",
              "      <td>132</td>\n",
              "      <td>4</td>\n",
              "      <td>0</td>\n",
              "      <td>5</td>\n",
              "      <td>16</td>\n",
              "      <td>2.4</td>\n",
              "      <td>0</td>\n",
              "      <td>19.9</td>\n",
              "      <td>0</td>\n",
              "      <td>0</td>\n",
              "      <td>0</td>\n",
              "      <td>117</td>\n",
              "      <td>53</td>\n",
              "      <td>170</td>\n",
              "      <td>9</td>\n",
              "      <td>0</td>\n",
              "      <td>137</td>\n",
              "      <td>136</td>\n",
              "      <td>138</td>\n",
              "      <td>11</td>\n",
              "      <td>1</td>\n",
              "      <td>0</td>\n",
              "    </tr>\n",
              "  </tbody>\n",
              "</table>\n",
              "</div>\n",
              "      <button class=\"colab-df-convert\" onclick=\"convertToInteractive('df-b33e121a-8503-4f42-93e6-073b689bae38')\"\n",
              "              title=\"Convert this dataframe to an interactive table.\"\n",
              "              style=\"display:none;\">\n",
              "        \n",
              "  <svg xmlns=\"http://www.w3.org/2000/svg\" height=\"24px\"viewBox=\"0 0 24 24\"\n",
              "       width=\"24px\">\n",
              "    <path d=\"M0 0h24v24H0V0z\" fill=\"none\"/>\n",
              "    <path d=\"M18.56 5.44l.94 2.06.94-2.06 2.06-.94-2.06-.94-.94-2.06-.94 2.06-2.06.94zm-11 1L8.5 8.5l.94-2.06 2.06-.94-2.06-.94L8.5 2.5l-.94 2.06-2.06.94zm10 10l.94 2.06.94-2.06 2.06-.94-2.06-.94-.94-2.06-.94 2.06-2.06.94z\"/><path d=\"M17.41 7.96l-1.37-1.37c-.4-.4-.92-.59-1.43-.59-.52 0-1.04.2-1.43.59L10.3 9.45l-7.72 7.72c-.78.78-.78 2.05 0 2.83L4 21.41c.39.39.9.59 1.41.59.51 0 1.02-.2 1.41-.59l7.78-7.78 2.81-2.81c.8-.78.8-2.07 0-2.86zM5.41 20L4 18.59l7.72-7.72 1.47 1.35L5.41 20z\"/>\n",
              "  </svg>\n",
              "      </button>\n",
              "      \n",
              "  <style>\n",
              "    .colab-df-container {\n",
              "      display:flex;\n",
              "      flex-wrap:wrap;\n",
              "      gap: 12px;\n",
              "    }\n",
              "\n",
              "    .colab-df-convert {\n",
              "      background-color: #E8F0FE;\n",
              "      border: none;\n",
              "      border-radius: 50%;\n",
              "      cursor: pointer;\n",
              "      display: none;\n",
              "      fill: #1967D2;\n",
              "      height: 32px;\n",
              "      padding: 0 0 0 0;\n",
              "      width: 32px;\n",
              "    }\n",
              "\n",
              "    .colab-df-convert:hover {\n",
              "      background-color: #E2EBFA;\n",
              "      box-shadow: 0px 1px 2px rgba(60, 64, 67, 0.3), 0px 1px 3px 1px rgba(60, 64, 67, 0.15);\n",
              "      fill: #174EA6;\n",
              "    }\n",
              "\n",
              "    [theme=dark] .colab-df-convert {\n",
              "      background-color: #3B4455;\n",
              "      fill: #D2E3FC;\n",
              "    }\n",
              "\n",
              "    [theme=dark] .colab-df-convert:hover {\n",
              "      background-color: #434B5C;\n",
              "      box-shadow: 0px 1px 3px 1px rgba(0, 0, 0, 0.15);\n",
              "      filter: drop-shadow(0px 1px 2px rgba(0, 0, 0, 0.3));\n",
              "      fill: #FFFFFF;\n",
              "    }\n",
              "  </style>\n",
              "\n",
              "      <script>\n",
              "        const buttonEl =\n",
              "          document.querySelector('#df-b33e121a-8503-4f42-93e6-073b689bae38 button.colab-df-convert');\n",
              "        buttonEl.style.display =\n",
              "          google.colab.kernel.accessAllowed ? 'block' : 'none';\n",
              "\n",
              "        async function convertToInteractive(key) {\n",
              "          const element = document.querySelector('#df-b33e121a-8503-4f42-93e6-073b689bae38');\n",
              "          const dataTable =\n",
              "            await google.colab.kernel.invokeFunction('convertToInteractive',\n",
              "                                                     [key], {});\n",
              "          if (!dataTable) return;\n",
              "\n",
              "          const docLinkHtml = 'Like what you see? Visit the ' +\n",
              "            '<a target=\"_blank\" href=https://colab.research.google.com/notebooks/data_table.ipynb>data table notebook</a>'\n",
              "            + ' to learn more about interactive tables.';\n",
              "          element.innerHTML = '';\n",
              "          dataTable['output_type'] = 'display_data';\n",
              "          await google.colab.output.renderOutput(dataTable, element);\n",
              "          const docLink = document.createElement('div');\n",
              "          docLink.innerHTML = docLinkHtml;\n",
              "          element.appendChild(docLink);\n",
              "        }\n",
              "      </script>\n",
              "    </div>\n",
              "  </div>\n",
              "  "
            ],
            "text/plain": [
              "   LBE  AC  FM  UC  ASTV  MSTV  ...  Mode  Mean  Median  Variance  Tendency  Target\n",
              "0  120   0   0   0    73   0.5  ...   120   137     121        73         1       1\n",
              "1  132   4   0   4    17   2.1  ...   141   136     140        12         0       0\n",
              "2  133   2   0   5    16   2.1  ...   141   135     138        13         0       0\n",
              "3  134   2   0   6    16   2.4  ...   137   134     137        13         1       0\n",
              "4  132   4   0   5    16   2.4  ...   137   136     138        11         1       0\n",
              "\n",
              "[5 rows x 22 columns]"
            ]
          },
          "execution_count": 6,
          "metadata": {},
          "output_type": "execute_result"
        }
      ],
      "source": [
        "# 2 -ELIMINAR COUMNAS NO NECESARIAS\n",
        "data = data.drop([\"ID\",\"b\",\"e\",\"DR\"], axis = 1)\n",
        "data.head()"
      ]
    },
    {
      "cell_type": "code",
      "execution_count": null,
      "metadata": {
        "id": "SXAMImBIw5lG"
      },
      "outputs": [],
      "source": [
        "# 3 - ANALISIS DESCRIPTIVO - NULOS\n",
        "data.isnull().sum()"
      ]
    },
    {
      "cell_type": "code",
      "execution_count": null,
      "metadata": {
        "id": "3BPXc4kKxIAI"
      },
      "outputs": [],
      "source": [
        "# 3 - MEDIDAS DE CENTRALIZACION, LOCALIZACION Y DISPERION\n",
        "data.describe().T"
      ]
    },
    {
      "cell_type": "code",
      "execution_count": null,
      "metadata": {
        "colab": {
          "base_uri": "https://localhost:8080/",
          "height": 355
        },
        "id": "aVPCTBucx7io",
        "outputId": "0a2beb6d-d395-4b12-906e-016be7316985"
      },
      "outputs": [
        {
          "name": "stdout",
          "output_type": "stream",
          "text": [
            "0    1655\n",
            "1     471\n",
            "Name: Target, dtype: int64\n"
          ]
        },
        {
          "data": {
            "image/png": "[encoded data removed]",
            "text/plain": [
              "<Figure size 936x360 with 1 Axes>"
            ]
          },
          "metadata": {},
          "output_type": "display_data"
        }
      ],
      "source": [
        "# 3 - DISTRIBUCION DE FRECUENCIAS DEL TARGET\n",
        "a, b = data['Target'].value_counts()\n",
        "plt.figure(figsize = (13,5))\n",
        "plt.subplot(121)\n",
        "plt.pie([a, b], labels=[\"Normal\", \"Anormal\"], autopct=\"%1.0f%%\")\n",
        "print(data[\"Target\"].value_counts())"
      ]
    },
    {
      "cell_type": "code",
      "execution_count": null,
      "metadata": {
        "colab": {
          "base_uri": "https://localhost:8080/",
          "height": 320
        },
        "id": "OZx21eG3yV9M",
        "outputId": "4b945c56-994c-4e69-fed9-48bbe5550762"
      },
      "outputs": [
        {
          "data": {
            "image/png": "[encoded data removed]",
            "text/plain": [
              "<Figure size 360x360 with 1 Axes>"
            ]
          },
          "metadata": {
            "needs_background": "light"
          },
          "output_type": "display_data"
        }
      ],
      "source": [
        "# 3 - HISTOGRAMA\n",
        "fig, ax = plt.subplots(1,1,figsize=(5,5)) \n",
        "plt.style.use(\"seaborn\")\n",
        "data['Target'].hist(ax=ax);"
      ]
    },
    {
      "cell_type": "code",
      "execution_count": null,
      "metadata": {
        "id": "Ob377PPNys_V"
      },
      "outputs": [],
      "source": [
        "# BOX PLOT\n",
        "data_box_plot = data.boxplot(vert=False, color = \"#000054\")"
      ]
    }
  ],
  "metadata": {
    "colab": {
      "name": "AnalisisSupervisadoI.ipynb",
      "provenance": []
    },
    "kernelspec": {
      "display_name": "master_iebs",
      "language": "python",
      "name": "python3"
    },
    "language_info": {
      "name": "python",
      "version": "3.10.8 | packaged by conda-forge | (main, Nov 22 2022, 08:26:04) [GCC 10.4.0]"
    },
    "vscode": {
      "interpreter": {
        "hash": "e4a81d9f9e574d93613c85427f7e8830e41117948814d44223f0a50cdb929710"
      }
    }
  },
  "nbformat": 4,
  "nbformat_minor": 0
}
