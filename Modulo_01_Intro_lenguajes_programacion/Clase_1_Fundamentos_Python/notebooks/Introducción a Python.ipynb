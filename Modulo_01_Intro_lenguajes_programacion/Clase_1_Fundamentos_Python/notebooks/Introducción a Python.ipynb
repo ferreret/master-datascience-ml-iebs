{
 "cells": [
  {
   "cell_type": "markdown",
   "metadata": {},
   "source": [
    "<img src=\"https://marketing4ecommerce.net/wp-content/uploads/2015/09/logo-iebs.jpg\" style=\"float:right\" width=\"400\">\n",
    "\n",
    "# Introducción a los lenguajes de programación\n",
    "\n",
    "## Introducción a Python\n",
    "\n",
    "### Javier Cózar\n"
   ]
  },
  {
   "cell_type": "markdown",
   "metadata": {},
   "source": [
    "El objetivo de esta libreta es conocer los **elementos básicos** del lenguaje python. La [documentación oficial](https://docs.python.org/3/library/index.html) es un buen recurso para resolver dudas, así como apliar conocimientos sobre una sección en concreto.\n",
    "\n",
    "A modo de **índice**, se verán:\n",
    "\n",
    "\n",
    "1. Declaración de variables y tipos de datos\n",
    "2. Expresiones y operadores\n",
    "3. Estructuras de control\n",
    "4. Funciones"
   ]
  },
  {
   "cell_type": "markdown",
   "metadata": {},
   "source": [
    "# 1. Declaración de variables\n",
    "\n",
    "En Python los **tipos se infieren dinámicamente**, es decir, no es necesario declarar de qué tipo es una variable pero ésta tiene un tipo asociado (el intérprete determina el tipo). Para declarar una variable basta con escribir un **identificador o nombre y asignarle un valor usando el símbolo `=`**. "
   ]
  },
  {
   "cell_type": "code",
   "execution_count": 1,
   "metadata": {},
   "outputs": [
    {
     "data": {
      "text/plain": [
       "'Mi primer string'"
      ]
     },
     "execution_count": 1,
     "metadata": {},
     "output_type": "execute_result"
    }
   ],
   "source": [
    "# El hashtag se utiliza para escribir comentarios.\n",
    "# ¡Utilízalos para documentar el código y clarificar la funcionalidad implementada!\n",
    "\n",
    "mensaje = \"Mi primer string\"\n",
    "\n",
    "# Si la última línea de la celda es una variable, se mostrará su contenido como salida\n",
    "mensaje"
   ]
  },
  {
   "cell_type": "markdown",
   "metadata": {},
   "source": [
    "Un identificador **válido** debe cumplir una serie de **condiciones**:\n",
    "\n",
    "* Tiene que **empezar por una letra o el símbolo _**\n",
    "* No puede contener espacios\n",
    "* Aunque puede contener caractéres especiales, como la ñ, se recomienda no hacerlo (estándar en programación)"
   ]
  },
  {
   "cell_type": "code",
   "execution_count": null,
   "metadata": {},
   "outputs": [],
   "source": [
    "mivariable = 1       # Tiene que empezar por una letra\n",
    "_mivariable = 0.123  # O empezar por el símbolo _\n",
    "\n",
    "# Tras el primer caracter, se permiten letras, números y _ (pero no espacios)\n",
    "_123 = \"Hola\"  \n",
    "var2_3_4_final = \"Mundo\""
   ]
  },
  {
   "cell_type": "markdown",
   "metadata": {},
   "source": [
    "Como veis no ha sido necesario especificar el tipo de las variables. Para comprobar el tipo que el intérprete les ha asignado se puede utilizar la función `type`:\n",
    "\n",
    "```python\n",
    "type(mensaje)\n",
    "```"
   ]
  },
  {
   "cell_type": "markdown",
   "metadata": {},
   "source": [
    "En python tenemos distintos tipos. El intérprete asignará uno u otro dependiendo de la expresión que se use en la asignación."
   ]
  },
  {
   "cell_type": "code",
   "execution_count": null,
   "metadata": {},
   "outputs": [],
   "source": [
    "# Algunos de los más comunes\n",
    "\n",
    "entero = 1  # Numeros sin decimal\n",
    "flotante = 1.0  # Numeros en coma flotante\n",
    "texto = \"Hola\"  # Cualquier secuencia entrecomillada con '' o \"\"\n",
    "booleano = True  # Puede ser True o False\n",
    "\n",
    "vacio = None #  En ciencia de datos representa un valor perdido\n",
    "\n",
    "print(entero)\n",
    "print(flotante)\n",
    "print(texto)\n",
    "print(booleano)\n",
    "print(vacio)"
   ]
  },
  {
   "cell_type": "markdown",
   "metadata": {},
   "source": [
    "Vamos a comprobar el tipo de las variables creadas"
   ]
  },
  {
   "cell_type": "code",
   "execution_count": null,
   "metadata": {},
   "outputs": [],
   "source": [
    "print(type(entero))\n",
    "print(type(flotante))\n",
    "print(type(texto))\n",
    "print(type(booleano))\n",
    "print(type(vacio))"
   ]
  },
  {
   "cell_type": "markdown",
   "metadata": {},
   "source": [
    "<div class=\"alert alert-block alert-warning\">\n",
    "<i class=\"fa fa-exclamation-circle\" aria-hidden=\"true\"></i>\n",
    "La comodidad y flexibilidad de no tener que declarar tipos es muy potente, pero hay que manejarla con cautela. Cuando se realiza una asignación, se producen dos pasos:\n",
    "<ol>\n",
    "    <li>Si no existe la variable, se crea</li>\n",
    "    <li>Se realiza la asignación de la expresión a la variable, cambiando el tipo dinámicamente si es necesario</li>\n",
    "</ol>\n",
    "<strong>¡Cuidado al nombrar las variables, ya que es posible reasignar (sobreescribir) otras variables, funciones, u otros elementos como paquetes importados!</strong>\n",
    "</div>"
   ]
  },
  {
   "cell_type": "code",
   "execution_count": null,
   "metadata": {},
   "outputs": [],
   "source": [
    "variable = \"Creada por primera vez\"\n",
    "print(variable)  # Imprime el string \"Creada por primera vez\"\n",
    "\n",
    "variable = \"Este valor ha sido asignado\"\n",
    "print(variable)  # Imprime el string \"Este valor ha sido asignado\"\n",
    "\n",
    "# Asignamos ahora un número.\n",
    "variable = 1.0\n",
    "print(variable)  # ¡El tipo de la variable a cambiado dinámicamente a float!"
   ]
  },
  {
   "cell_type": "markdown",
   "metadata": {},
   "source": [
    "Se puede forzar que una variable sea de un tipo concreto. A este proceso se le llama **casting de variables**. Para ello, haremos uso de las siguientes funciones (**built-in**).\n",
    "\n",
    "- `int`: transforma a número entero\n",
    "- `float`: transforma a número real\n",
    "- `str`: transforma a cadena de caracteres\n",
    "- `bool`: transforma a booleano"
   ]
  },
  {
   "cell_type": "code",
   "execution_count": null,
   "metadata": {},
   "outputs": [],
   "source": [
    "# Declaramos una variable, que inicialmente será de tipo string\n",
    "variable = \"1\"\n",
    "type(variable)"
   ]
  },
  {
   "cell_type": "code",
   "execution_count": null,
   "metadata": {},
   "outputs": [],
   "source": [
    "variable_entero = int(variable)\n",
    "variable_real = float(variable)\n",
    "variable_bool = bool(variable)\n",
    "uno_string = str(1)  # transformamos un entero en un string\n",
    "\n",
    "print(variable_entero)\n",
    "print(variable_real)\n",
    "print(variable_bool)\n",
    "print(type(uno_string))"
   ]
  },
  {
   "cell_type": "markdown",
   "metadata": {},
   "source": [
    "Las transformaciones del tipo de datos debe tener sentido. Si no se puede realizar el casting, Python dará un error:"
   ]
  },
  {
   "cell_type": "code",
   "execution_count": null,
   "metadata": {},
   "outputs": [],
   "source": [
    "variable = \"No soy un número\"\n",
    "int(variable)  #causará un error en la ejecución"
   ]
  },
  {
   "cell_type": "markdown",
   "metadata": {},
   "source": [
    "---"
   ]
  },
  {
   "cell_type": "markdown",
   "metadata": {},
   "source": [
    "# 2. Expresiones y operadores\n",
    "\n",
    "Una expresión es cualquier operación que finalmente resuelva a un valor.\n",
    "\n",
    "- Un literal\n",
    "- Una variable\n",
    "- Una operación entre literales o variables\n",
    "- La llamada a una función\n",
    "- Una operación entre una variable y la salida de una función"
   ]
  },
  {
   "cell_type": "markdown",
   "metadata": {},
   "source": [
    "## 2.1 Operadores aritméticos"
   ]
  },
  {
   "cell_type": "markdown",
   "metadata": {},
   "source": [
    "A coninuación se exponen los operadores más habituales entre variables numéricas."
   ]
  },
  {
   "cell_type": "code",
   "execution_count": null,
   "metadata": {},
   "outputs": [],
   "source": [
    "print(2 + 3)     # Suma: 5\n",
    "print(2 - 3)     # Resta: -1\n",
    "print(-6)        # Un número negativo: -6\n",
    "\n",
    "print()\n",
    "\n",
    "print(2 * 3)     # Multiplicación: 6\n",
    "print(5 / 2)     # División flotante: 2.5\n",
    "print(4 / 2)     # Aunque los números sean enteros y la división sea exacta\n",
    "                 # el resultado es un número flotante\n",
    "print(5 // 2)    # División entera: 2 (se trunca; equivalente a int(5/2))\n",
    "print(4 // 2)    # El resultado es un entero: 2\n",
    "\n",
    "print()\n",
    "\n",
    "print(5 % 2)     # El módulo es 1 (resto de 5 / 2)\n",
    "print(2**3)      # 2 elevado a 3: 8"
   ]
  },
  {
   "cell_type": "markdown",
   "metadata": {},
   "source": [
    "Podemos utilizar los paréntesis para cambiar el orden de precedencia de las operaciones."
   ]
  },
  {
   "cell_type": "code",
   "execution_count": null,
   "metadata": {},
   "outputs": [],
   "source": [
    "x = 3 * 2**3 + 5  # = 3 * 8 + 5 = 24 + 5 = 29\n",
    "print(x)\n",
    "\n",
    "x = (3 * 2)**(3 + 5)  # = 6 ** 8 = 1679616\n",
    "print(x)"
   ]
  },
  {
   "cell_type": "markdown",
   "metadata": {},
   "source": [
    "## 2.2 Operadores lógicos"
   ]
  },
  {
   "cell_type": "markdown",
   "metadata": {},
   "source": [
    "Existen operadores de comparación entre números y objetos en general, que devuelven un booleano (True/False)."
   ]
  },
  {
   "cell_type": "code",
   "execution_count": null,
   "metadata": {},
   "outputs": [],
   "source": [
    "print(1 != 2) # Desigualdad\n",
    "print(1 == 2) # Igualdad\n",
    "print(1 < 2)  # Comparacion\n",
    "print(1 > 2)  # Comparacion\n",
    "print(1 <= 2) # Comparacion\n",
    "print(1 >= 2) # Comparacion"
   ]
  },
  {
   "cell_type": "markdown",
   "metadata": {},
   "source": [
    "Los mismos operadores permiten comparar strings"
   ]
  },
  {
   "cell_type": "code",
   "execution_count": null,
   "metadata": {},
   "outputs": [],
   "source": [
    "print(\"a\" != \"b\")\n",
    "print(\"libreta\" == \"libreta\")\n",
    "print(\"a\" > \"b\")\n",
    "print(\"zebra\" > \"viga\")"
   ]
  },
  {
   "cell_type": "markdown",
   "metadata": {},
   "source": [
    "Existen operadores de booleanos para formar expresiones booleanas más complejas. Éstas son de gran utilidad para formar condiciones, por ejemplo para bucles while y sentencias if-else (se verán más adelante).\n",
    "\n",
    "Algunos de los operadores básicos son:\n",
    "\n",
    "* **not**: niega el valor booleano\n",
    "* **and**: conjunción\n",
    "* **or**: disyunción"
   ]
  },
  {
   "cell_type": "code",
   "execution_count": null,
   "metadata": {},
   "outputs": [],
   "source": [
    "print(not (1 == 2)) # Negacion\n",
    "print((1 < 2) and (2 > 3)) # Conjunción\n",
    "print((1 < 2) or (2 > 3))  # Opcion"
   ]
  },
  {
   "cell_type": "markdown",
   "metadata": {},
   "source": [
    "## 2.3 Operadores sobre strings"
   ]
  },
  {
   "cell_type": "markdown",
   "metadata": {},
   "source": [
    "Se utilizan los operadores vistos anteriormente sobre números (operadores aritméticos). Estos operadores están _sobrecargados_, detectando automáticamente en función del tipo de las variables qué funcionalidad debe aplicar."
   ]
  },
  {
   "cell_type": "code",
   "execution_count": null,
   "metadata": {},
   "outputs": [],
   "source": [
    "print('a' + 'b') # Concatenacion\n",
    "print('a'* 4) # Repeticion"
   ]
  },
  {
   "cell_type": "markdown",
   "metadata": {},
   "source": [
    "Cuando queremos incluir prints para que la salida de nuestros programas sea enriquecida y muestre información útil, podemos construir strings con el valor de variables declaradas en nuestro código. A partir de python 3.6 disponemos de los strings format, que son tremendamente útiles e intuitivos. Basta con preceder el string con la letra `f` (fuera de las comillas que delimitan el string) e introducir dentro del string las variables de nuestro código a utilizar entre llaves."
   ]
  },
  {
   "cell_type": "code",
   "execution_count": null,
   "metadata": {},
   "outputs": [],
   "source": [
    "a = 4\n",
    "b = 5\n",
    "resultado = a + b\n",
    "print(f\"El resultado de sumar {a} y {b} es {resultado}\")"
   ]
  },
  {
   "cell_type": "markdown",
   "metadata": {},
   "source": [
    "<div class=\"alert alert-block alert-info\">\n",
    "<i class=\"fa fa-info-circle\" aria-hidden=\"true\"></i>\n",
    "En este <a href=\"https://pyformat.info/\">enlace</a> podemos ver todas las opciones a la hora de formatear strings.\n",
    "</div>"
   ]
  },
  {
   "cell_type": "markdown",
   "metadata": {},
   "source": [
    "---"
   ]
  },
  {
   "cell_type": "markdown",
   "metadata": {},
   "source": [
    "# 3. Estructuras de control"
   ]
  },
  {
   "cell_type": "markdown",
   "metadata": {},
   "source": [
    "Las estructuras de control sirven para definir flujos de ejecución dentro de un programa. Las estructuras básicas de control son:\n",
    "\n",
    "* **If-else**: estructura condicional\n",
    "* **Bucle for**: estructura de bucle for\n",
    "* **Bucle while**: estructura de bucle while\n",
    "\n",
    "<div class=\"alert alert-block alert-info\">\n",
    "<i class=\"fa fa-info-circle\" aria-hidden=\"true\"></i>\n",
    "Las estrucutras de control dividen el código en <strong>bloques</strong> que deben ser demilitados. En python hay una serie de reglas sintácticas que son muy características.\n",
    "\n",
    "Esto puede costar a la hora de migrar de lenguaje, pero hacen el código mucho más limpio y legible.\n",
    "</div>"
   ]
  },
  {
   "cell_type": "markdown",
   "metadata": {},
   "source": [
    "## Bloques por indentación\n",
    "\n",
    "En cualquier lenguaje es necesario poder delimitar bloques de código. Por ejemplo, en un bucle, para especificar el código a ejecutar dentro del mismo en cada iteración. En python no existen llaves (`{}`) como en muchos otros lenguajes (java, C, ...) para definir (o delimitar) bloques de código. \n",
    "\n",
    "En python utilizamos directamente la __indentación__, que consiste en **4 espacios consecutivos**, para definir los bloques de código."
   ]
  },
  {
   "cell_type": "markdown",
   "metadata": {},
   "source": [
    "## Estructuras de control delimitadas por dos puntos\n",
    "\n",
    "Para delimitar el fin de una estructura de control (y el comienzo del bloque asociado a dicha estructura) utilizamos los dos puntos `:`"
   ]
  },
  {
   "cell_type": "markdown",
   "metadata": {},
   "source": [
    "## Estructura condicional: if-elif-else\n",
    "\n",
    "La estructura condicional permite **bifurcar el flujo de la ejecución de un programa** en dos alternativas. Mediante el uso de una expresión booleana (que se resuelve como `True` o `False`), perimte ejecutar uno u otro bloque, asociados a cada uno de los posibles valores booleanos."
   ]
  },
  {
   "cell_type": "code",
   "execution_count": null,
   "metadata": {},
   "outputs": [],
   "source": [
    "# if condición booleana:\n",
    "#     # indentación de 4 espacios para definir código dentro del if.\n",
    "#     código ejecutado si condición es True\n",
    "# else:\n",
    "#     # indentación de 4 espacios para definir código dentro del else.\n",
    "#     código ejecutado si condición es False\n",
    "\n",
    "x = 2\n",
    "\n",
    "if x % 2 == 0:\n",
    "    print(f\"{x} es par\")\n",
    "    \n",
    "else:\n",
    "    print(f\"{x} es impar\")"
   ]
  },
  {
   "cell_type": "code",
   "execution_count": null,
   "metadata": {},
   "outputs": [],
   "source": [
    "# si se quiere utilizar más de una condición, se pueden concatenar varios if-else, haciendo uso de elif\n",
    "\n",
    "x = 7\n",
    "\n",
    "if x % 2 == 0:\n",
    "    print(f\"{x} es divisible por 2\")\n",
    "elif x % 3 == 0:\n",
    "    print(f\"{x} es divisible por 3\")\n",
    "elif x % 5 == 0:\n",
    "    print(f\"{x} es divisible por 5\")\n",
    "else:\n",
    "    print(f\"{x} no es divisibile ni por 2, ni por 3 ni por 5\")\n"
   ]
  },
  {
   "cell_type": "markdown",
   "metadata": {},
   "source": [
    "## Estructura de bucle: for\n",
    "\n",
    "La estructura de bucle for permite **repetir un bloque de código** tantas veces como elementos tenga una secuencia (un objeto **iterable** o **generador**). En cada iteración sobre el bucle, una variable tomará el valor de cada uno de los elementos de esa secuencia.\n",
    "\n",
    "\n",
    "<div class=\"alert alert-block alert-info\">\n",
    "<i class=\"fa fa-info-circle\" aria-hidden=\"true\"></i>\n",
    "<strong>Nota</strong>: En este ejemplo, usaremos una lista de números. Las estructuras de datos (dónde se explicarán las listas, entre otras) se verán a continuación.\n",
    "</div>"
   ]
  },
  {
   "cell_type": "code",
   "execution_count": null,
   "metadata": {},
   "outputs": [],
   "source": [
    "# for variable in lista:\n",
    "#     # código a ejecutar dentro del bucle, donde variable toma cada uno de los valores de la lista\n",
    "#     # (el código se ejecutará tantas veces como valores diferentes haya en la lista)\n",
    "\n",
    "for i in [1, 2, 3, 4]:\n",
    "    print(f\"Soy el número {i}\")\n",
    "    "
   ]
  },
  {
   "cell_type": "markdown",
   "metadata": {},
   "source": [
    "## Estructura de bucle: while\n",
    "\n",
    "La estructura de bucle for permite **repetir un bloque de código** en función de una expresión **booleana**. Al comienzo de cada iteración se comprobará el valor de esta expresión, y se continuará ejecutando el bucle si la condición es `True`, y se terminará en caso contrario (`False`)"
   ]
  },
  {
   "cell_type": "code",
   "execution_count": null,
   "metadata": {},
   "outputs": [],
   "source": [
    "# while condición:\n",
    "#     # indentación de 4 espacios para definir código dentro del for.\n",
    "#     # código a ejecutar dentro del bucle, donde variable toma cada uno de los valores de la lista\n",
    "#     # (el código se ejecutará tantas veces como valores diferentes haya en la lista)\n",
    "\n",
    "x = 1\n",
    "while x < 5:\n",
    "    print(f\"Soy el número {x}\")\n",
    "    x += 1"
   ]
  },
  {
   "cell_type": "markdown",
   "metadata": {},
   "source": [
    "<div class=\"alert alert-block alert-info\">\n",
    "<i class=\"fa fa-info-circle\" aria-hidden=\"true\"></i>\n",
    "<strong>Nota</strong>: La sentencia <strong>break</strong> se puede utilizar para salir de un bucle inmediatamente.\n",
    "</div>"
   ]
  },
  {
   "cell_type": "code",
   "execution_count": null,
   "metadata": {},
   "outputs": [],
   "source": [
    "# Ejemplo de código en el que el uso de break es imprescindible, pues el criterio de parada depende del input del usuario\n",
    "# Nota: usamos la función built-in de python, que permite introducir un string por teclado\n",
    "continuar = True\n",
    "while continuar:\n",
    "    letra = input(\"Quieres continuar? y/n\\n\")  # Función built-in que permite introducir valores por teclado\n",
    "    print(letra)\n",
    "    continuar = (letra == 'y')\n",
    "    print(continuar)\n",
    "    if not continuar:\n",
    "        break"
   ]
  },
  {
   "cell_type": "markdown",
   "metadata": {},
   "source": [
    "---"
   ]
  },
  {
   "cell_type": "markdown",
   "metadata": {},
   "source": [
    "# 4. Funciones"
   ]
  },
  {
   "cell_type": "markdown",
   "metadata": {},
   "source": [
    "Una **función** es un bloque que parte de unas entradas (argumentos), que son utilizados por un código que ejecuta internamente para devolver una salida. Por ejemplo, la función `sum(x, y)` es una función que recibe dos números `x` e `y`, y devuelve como salida la suma de ambos. El uso de una función se realiza mediante su nombre (`sum`) e introduciendo la lista de variables de entrada (**argumentos**), separadas por comas, entre paréntesis: por ejemplo al ejecutar `sum(2,3)` devuelve 5.\n",
    "\n",
    "Las funciones permiten nombrar a bloques de código para ser reutilizados en múltiples partes de nuestro programa.\n",
    "\n",
    "Se crean usando la palabra reservada **def** seguido del **nombre** de la función (para que sea un nombre válido, debe cumplir las mismas condiciones que el nombrado de variables), y **entre paréntesis el nombre de los argumentos separados por comas** (si no tiene argumentos, tan solo los paréntesis). Si la función tiene una salida (ésta es opcional) se usa **return** para especificar qué devuelve."
   ]
  },
  {
   "cell_type": "code",
   "execution_count": null,
   "metadata": {},
   "outputs": [],
   "source": [
    "def sumar(x, y):\n",
    "    return x + y"
   ]
  },
  {
   "cell_type": "code",
   "execution_count": null,
   "metadata": {},
   "outputs": [],
   "source": [
    "# Para usarla se usan los paréntesis para indicar el valor de sus parámetros\n",
    "sumar(2, 6)"
   ]
  },
  {
   "cell_type": "code",
   "execution_count": null,
   "metadata": {},
   "outputs": [],
   "source": [
    "# Se pueden especificar los valores de los parámetros por posición o por nombre\n",
    "sumar(y=5, x=1)"
   ]
  },
  {
   "cell_type": "markdown",
   "metadata": {},
   "source": [
    "Las funciones se pueden declarar con valores por defecto para ciertos parámetros. Sin embargo, los parámetros tienen que estar ordenados en este caso:\n",
    "\n",
    "* Primero los parámetros obligatorios (sin valores por defecto)\n",
    "* Después los parámetros opcionales (con valores por defecto)"
   ]
  },
  {
   "cell_type": "code",
   "execution_count": null,
   "metadata": {},
   "outputs": [],
   "source": [
    "def mi_funcion(req1, req2, opt1=\"Opcional\", opt2=5):\n",
    "    print(f\"Estos son los parametros introducidos: {req1}, {req2}, {opt1} y {opt2}\")\n",
    "\n",
    "mi_funcion('a', 'b')\n",
    "mi_funcion('a', 'b', \"Otra cosa\")\n",
    "mi_funcion(req2='a', req1='b', opt2=100)"
   ]
  },
  {
   "cell_type": "markdown",
   "metadata": {},
   "source": [
    "Python dispone de varias funciones de gran utilidad de forma nativa, llamadas funciones **built-in**. En este [enlace](https://docs.python.org/3/library/functions.html) se puede ver la lista de funciones built-in. A continuación se describen las que pueden resultar de mayor interés:"
   ]
  },
  {
   "cell_type": "markdown",
   "metadata": {},
   "source": [
    "### Tipos\n",
    "* **bool**: Fuerza un elemento (cast) a ser de tipo booleano\n",
    "* **int**: Fuerza un elemento (cast) a ser de tipo entero\n",
    "* **float**: Fuerza un elemento (cast) a ser de tipo flotante\n",
    "* **str**: Fuerza un elemento (cast) a ser de tipo string\n",
    "* **type**: Devuelve el tipo de la variable pasada como argumento."
   ]
  },
  {
   "cell_type": "code",
   "execution_count": null,
   "metadata": {},
   "outputs": [],
   "source": [
    "type(\"Soy un string\")"
   ]
  },
  {
   "cell_type": "markdown",
   "metadata": {},
   "source": [
    "### Operadores numéricos\n",
    "* **abs**: Computa el valor absoluto\n",
    "* **divmod**: Calcula el módulo (resto de una división)\n",
    "* **max** _(iterable)_: Computa el máximo entre los números pasados como argumentos\n",
    "* **min** _(iterable)_: Computa el mínimo entre los números pasados como argumentos\n",
    "* **round**: Redondea un número flotante a entero. **Utiliza el método de redondeo del banquero**."
   ]
  },
  {
   "cell_type": "code",
   "execution_count": null,
   "metadata": {},
   "outputs": [],
   "source": [
    "max_value = max(10, 5)\n",
    "\n",
    "max_value"
   ]
  },
  {
   "cell_type": "markdown",
   "metadata": {},
   "source": [
    "## Utilidades\n",
    "* **input**: Permite solicitar un valor por teclado para, por ejemplo, signarlo a una variable. \n",
    "* **print**: Función que imprime en la salida el string pasado como argumento. Si no es un string, intentará castearlo a string.\n",
    "* **range** Genera un rango de enteros (secuencia de números enteros)"
   ]
  },
  {
   "cell_type": "code",
   "execution_count": null,
   "metadata": {},
   "outputs": [],
   "source": [
    "texto = input(\"Introduce un texto: \\n\")  # \\n representa un salto de linea\n",
    "texto"
   ]
  },
  {
   "cell_type": "code",
   "execution_count": null,
   "metadata": {},
   "outputs": [],
   "source": [
    "# Range permite especificar una secuencia de enteros. Tiene 3 argumentos:\n",
    "# range(valor inicial inclusive, valor final exclusive, incremento)\n",
    "\n",
    "# Nota: utilizaremos la función list() para poder visualizar la secuencia\n",
    "# de valores devuelta por range. \n",
    "\n",
    "print( list(range(5, 10, 2)) )  # 5, 7 y 9\n",
    "\n",
    "print( list(range(10, 6, -1)) )  # 10, 9 y 8 y 7\n",
    "\n",
    "# Algunos argumentos se pueden omitir. Si solo se especifican 2, corresponden\n",
    "# con el valor inicial y final, y se supone el incremento = +1\n",
    "print( list(range(1, 3)) )  # 1 y 2\n",
    "\n",
    "# Por ello, si se empieza en 3 y se termina en 1 con incrementos de +1, la secuencia es vacía\n",
    "print( list(range(3, 1)) )  # Secuencia vacía\n",
    "\n",
    "# Si solo se especifica un argumento, éste es el valor final, siendo el valor\n",
    "# inicial 0, y el incremento +1\n",
    "print( list(range(5)) )  # 0, 1, 2, 3 y 4"
   ]
  }
 ],
 "metadata": {
  "kernelspec": {
   "display_name": "Python 3.10.8 ('master_iebs')",
   "language": "python",
   "name": "python3"
  },
  "language_info": {
   "codemirror_mode": {
    "name": "ipython",
    "version": 3
   },
   "file_extension": ".py",
   "mimetype": "text/x-python",
   "name": "python",
   "nbconvert_exporter": "python",
   "pygments_lexer": "ipython3",
   "version": "3.10.8"
  },
  "vscode": {
   "interpreter": {
    "hash": "e4a81d9f9e574d93613c85427f7e8830e41117948814d44223f0a50cdb929710"
   }
  }
 },
 "nbformat": 4,
 "nbformat_minor": 4
}
